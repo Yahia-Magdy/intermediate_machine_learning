{
 "cells": [
  {
   "cell_type": "markdown",
   "id": "17b8b231",
   "metadata": {
    "papermill": {
     "duration": 0.004996,
     "end_time": "2022-07-02T02:49:46.086319",
     "exception": false,
     "start_time": "2022-07-02T02:49:46.081323",
     "status": "completed"
    },
    "tags": []
   },
   "source": [
    "**[Machine Learning Course Home Page](https://www.kaggle.com/learn/machine-learning)**\n",
    "\n",
    "---\n"
   ]
  },
  {
   "cell_type": "markdown",
   "id": "cfb801f0",
   "metadata": {
    "papermill": {
     "duration": 0.004883,
     "end_time": "2022-07-02T02:49:46.095817",
     "exception": false,
     "start_time": "2022-07-02T02:49:46.090934",
     "status": "completed"
    },
    "tags": []
   },
   "source": [
    "This exercise will test your ability to read a data file and understand statistics about the data.\n",
    "\n",
    "In later exercises, you will apply techniques to filter the data, build a machine learning model, and iteratively improve your model.\n",
    "\n",
    "The course examples use data from Melbourne. To ensure you can apply these techniques on your own, you will have to apply them to a new dataset (with house prices from Iowa).\n",
    "\n",
    "The exercises use a \"notebook\" coding environment.  In case you are unfamiliar with notebooks, we have a [90-second intro video](https://www.youtube.com/watch?v=4C2qMnaIKL4).\n",
    "\n",
    "# Exercises\n",
    "\n",
    "Run the following cell to set up code-checking, which will verify your work as you go."
   ]
  },
  {
   "cell_type": "code",
   "execution_count": 1,
   "id": "c1a41209",
   "metadata": {
    "execution": {
     "iopub.execute_input": "2022-07-02T02:49:46.107007Z",
     "iopub.status.busy": "2022-07-02T02:49:46.106422Z",
     "iopub.status.idle": "2022-07-02T02:49:46.167940Z",
     "shell.execute_reply": "2022-07-02T02:49:46.166580Z"
    },
    "papermill": {
     "duration": 0.071029,
     "end_time": "2022-07-02T02:49:46.171297",
     "exception": false,
     "start_time": "2022-07-02T02:49:46.100268",
     "status": "completed"
    },
    "tags": []
   },
   "outputs": [
    {
     "name": "stdout",
     "output_type": "stream",
     "text": [
      "Setup Complete\n"
     ]
    }
   ],
   "source": [
    "# Set up code checking\n",
    "from learntools.core import binder\n",
    "binder.bind(globals())\n",
    "from learntools.machine_learning.ex2 import *\n",
    "print(\"Setup Complete\")"
   ]
  },
  {
   "cell_type": "markdown",
   "id": "e9e2e764",
   "metadata": {
    "papermill": {
     "duration": 0.003948,
     "end_time": "2022-07-02T02:49:46.180214",
     "exception": false,
     "start_time": "2022-07-02T02:49:46.176266",
     "status": "completed"
    },
    "tags": []
   },
   "source": [
    "## Step 1: Loading Data\n",
    "Read the Iowa data file into a Pandas DataFrame called `home_data`."
   ]
  },
  {
   "cell_type": "code",
   "execution_count": 2,
   "id": "3a76c37d",
   "metadata": {
    "execution": {
     "iopub.execute_input": "2022-07-02T02:49:46.191259Z",
     "iopub.status.busy": "2022-07-02T02:49:46.190154Z",
     "iopub.status.idle": "2022-07-02T02:49:46.247336Z",
     "shell.execute_reply": "2022-07-02T02:49:46.246258Z"
    },
    "papermill": {
     "duration": 0.064753,
     "end_time": "2022-07-02T02:49:46.249264",
     "exception": false,
     "start_time": "2022-07-02T02:49:46.184511",
     "status": "completed"
    },
    "tags": []
   },
   "outputs": [
    {
     "data": {
      "application/javascript": [
       "parent.postMessage({\"jupyterEvent\": \"custom.exercise_interaction\", \"data\": {\"outcomeType\": 1, \"valueTowardsCompletion\": 0.5, \"interactionType\": 1, \"questionType\": 1, \"questionId\": \"1_LoadHomeData\", \"learnToolsVersion\": \"0.3.4\", \"failureMessage\": \"\", \"exceptionClass\": \"\", \"trace\": \"\"}}, \"*\")"
      ],
      "text/plain": [
       "<IPython.core.display.Javascript object>"
      ]
     },
     "metadata": {},
     "output_type": "display_data"
    },
    {
     "data": {
      "text/markdown": [
       "<span style=\"color:#33cc33\">Correct</span>"
      ],
      "text/plain": [
       "Correct"
      ]
     },
     "metadata": {},
     "output_type": "display_data"
    }
   ],
   "source": [
    "import pandas as pd\n",
    "\n",
    "# Path of the file to read\n",
    "iowa_file_path = '../input/home-data-for-ml-course/train.csv'\n",
    "\n",
    "# Fill in the line below to read the file into a variable home_data\n",
    "home_data = pd.read_csv(iowa_file_path )\n",
    "\n",
    "# Call line below with no argument to check that you've loaded the data correctly\n",
    "step_1.check()"
   ]
  },
  {
   "cell_type": "code",
   "execution_count": 3,
   "id": "28d8030e",
   "metadata": {
    "execution": {
     "iopub.execute_input": "2022-07-02T02:49:46.258008Z",
     "iopub.status.busy": "2022-07-02T02:49:46.257060Z",
     "iopub.status.idle": "2022-07-02T02:49:46.261329Z",
     "shell.execute_reply": "2022-07-02T02:49:46.260403Z"
    },
    "papermill": {
     "duration": 0.011357,
     "end_time": "2022-07-02T02:49:46.263880",
     "exception": false,
     "start_time": "2022-07-02T02:49:46.252523",
     "status": "completed"
    },
    "tags": []
   },
   "outputs": [],
   "source": [
    "# Lines below will give you a hint or solution code\n",
    "#step_1.hint()\n",
    "#step_1.solution()"
   ]
  },
  {
   "cell_type": "markdown",
   "id": "da4ec57e",
   "metadata": {
    "papermill": {
     "duration": 0.004428,
     "end_time": "2022-07-02T02:49:46.273440",
     "exception": false,
     "start_time": "2022-07-02T02:49:46.269012",
     "status": "completed"
    },
    "tags": []
   },
   "source": [
    "## Step 2: Review The Data\n",
    "Use the command you learned to view summary statistics of the data. Then fill in variables to answer the following questions"
   ]
  },
  {
   "cell_type": "code",
   "execution_count": 4,
   "id": "f85df53d",
   "metadata": {
    "execution": {
     "iopub.execute_input": "2022-07-02T02:49:46.285226Z",
     "iopub.status.busy": "2022-07-02T02:49:46.284358Z",
     "iopub.status.idle": "2022-07-02T02:49:46.369850Z",
     "shell.execute_reply": "2022-07-02T02:49:46.368873Z"
    },
    "papermill": {
     "duration": 0.093522,
     "end_time": "2022-07-02T02:49:46.371942",
     "exception": false,
     "start_time": "2022-07-02T02:49:46.278420",
     "status": "completed"
    },
    "tags": []
   },
   "outputs": [
    {
     "data": {
      "text/markdown": [],
      "text/plain": [
       "<learntools.core.constants.PlaceholderValue at 0x7fd2caeed110>"
      ]
     },
     "execution_count": 4,
     "metadata": {},
     "output_type": "execute_result"
    }
   ],
   "source": [
    "# Print summary statistics in next line\n",
    "home_data.describe()\n",
    "____"
   ]
  },
  {
   "cell_type": "code",
   "execution_count": 5,
   "id": "6876e206",
   "metadata": {
    "execution": {
     "iopub.execute_input": "2022-07-02T02:49:46.383316Z",
     "iopub.status.busy": "2022-07-02T02:49:46.383003Z",
     "iopub.status.idle": "2022-07-02T02:49:46.459256Z",
     "shell.execute_reply": "2022-07-02T02:49:46.457946Z"
    },
    "papermill": {
     "duration": 0.085013,
     "end_time": "2022-07-02T02:49:46.461864",
     "exception": false,
     "start_time": "2022-07-02T02:49:46.376851",
     "status": "completed"
    },
    "tags": []
   },
   "outputs": [
    {
     "data": {
      "application/javascript": [
       "parent.postMessage({\"jupyterEvent\": \"custom.exercise_interaction\", \"data\": {\"outcomeType\": 1, \"valueTowardsCompletion\": 0.5, \"interactionType\": 1, \"questionType\": 1, \"questionId\": \"2_HomeDescription\", \"learnToolsVersion\": \"0.3.4\", \"failureMessage\": \"\", \"exceptionClass\": \"\", \"trace\": \"\"}}, \"*\")"
      ],
      "text/plain": [
       "<IPython.core.display.Javascript object>"
      ]
     },
     "metadata": {},
     "output_type": "display_data"
    },
    {
     "data": {
      "text/markdown": [
       "<span style=\"color:#33cc33\">Correct</span>"
      ],
      "text/plain": [
       "Correct"
      ]
     },
     "metadata": {},
     "output_type": "display_data"
    }
   ],
   "source": [
    "# What is the average lot size (rounded to nearest integer)?\n",
    "home_data.describe()\n",
    "avg_lot_size = 10517\n",
    "\n",
    "# As of today, how old is the newest home (current year - the date in which it was built)\n",
    "newest_home_age = 12\n",
    "\n",
    "# Checks your answers\n",
    "step_2.check()"
   ]
  },
  {
   "cell_type": "code",
   "execution_count": 6,
   "id": "b5b06f24",
   "metadata": {
    "execution": {
     "iopub.execute_input": "2022-07-02T02:49:46.474591Z",
     "iopub.status.busy": "2022-07-02T02:49:46.474235Z",
     "iopub.status.idle": "2022-07-02T02:49:46.479173Z",
     "shell.execute_reply": "2022-07-02T02:49:46.477940Z"
    },
    "papermill": {
     "duration": 0.013491,
     "end_time": "2022-07-02T02:49:46.481207",
     "exception": false,
     "start_time": "2022-07-02T02:49:46.467716",
     "status": "completed"
    },
    "tags": []
   },
   "outputs": [],
   "source": [
    "#step_2.hint()\n",
    "#step_2.solution()"
   ]
  },
  {
   "cell_type": "markdown",
   "id": "b7de3aae",
   "metadata": {
    "papermill": {
     "duration": 0.00494,
     "end_time": "2022-07-02T02:49:46.491369",
     "exception": false,
     "start_time": "2022-07-02T02:49:46.486429",
     "status": "completed"
    },
    "tags": []
   },
   "source": [
    "## Think About Your Data\n",
    "\n",
    "The newest house in your data isn't that new.  A few potential explanations for this:\n",
    "1. They haven't built new houses where this data was collected.\n",
    "1. The data was collected a long time ago. Houses built after the data publication wouldn't show up.\n",
    "\n",
    "If the reason is explanation #1 above, does that affect your trust in the model you build with this data? What about if it is reason #2?\n",
    "\n",
    "How could you dig into the data to see which explanation is more plausible?\n",
    "\n",
    "Check out this **[discussion thread](https://www.kaggle.com/learn-forum/60581)** to see what others think or to add your ideas.\n",
    "\n",
    "# Keep Going\n",
    "\n",
    "You are ready for **[Your First Machine Learning Model](https://www.kaggle.com/dansbecker/your-first-machine-learning-model).**\n"
   ]
  },
  {
   "cell_type": "markdown",
   "id": "d3caa5be",
   "metadata": {
    "papermill": {
     "duration": 0.00475,
     "end_time": "2022-07-02T02:49:46.501153",
     "exception": false,
     "start_time": "2022-07-02T02:49:46.496403",
     "status": "completed"
    },
    "tags": []
   },
   "source": [
    "---\n",
    "**[Machine Learning Course Home Page](https://www.kaggle.com/learn/machine-learning)**\n",
    "\n"
   ]
  }
 ],
 "metadata": {
  "kernelspec": {
   "display_name": "Python 3",
   "language": "python",
   "name": "python3"
  },
  "language_info": {
   "codemirror_mode": {
    "name": "ipython",
    "version": 3
   },
   "file_extension": ".py",
   "mimetype": "text/x-python",
   "name": "python",
   "nbconvert_exporter": "python",
   "pygments_lexer": "ipython3",
   "version": "3.7.12"
  },
  "papermill": {
   "default_parameters": {},
   "duration": 10.472104,
   "end_time": "2022-07-02T02:49:47.228455",
   "environment_variables": {},
   "exception": null,
   "input_path": "__notebook__.ipynb",
   "output_path": "__notebook__.ipynb",
   "parameters": {},
   "start_time": "2022-07-02T02:49:36.756351",
   "version": "2.3.4"
  }
 },
 "nbformat": 4,
 "nbformat_minor": 5
}
