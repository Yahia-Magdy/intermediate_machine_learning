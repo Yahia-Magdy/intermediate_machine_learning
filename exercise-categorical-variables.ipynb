{
 "cells": [
  {
   "cell_type": "markdown",
   "id": "4dfbabf3",
   "metadata": {
    "papermill": {
     "duration": 0.01302,
     "end_time": "2022-07-02T02:41:07.067275",
     "exception": false,
     "start_time": "2022-07-02T02:41:07.054255",
     "status": "completed"
    },
    "tags": []
   },
   "source": [
    "**This notebook is an exercise in the [Intermediate Machine Learning](https://www.kaggle.com/learn/intermediate-machine-learning) course.  You can reference the tutorial at [this link](https://www.kaggle.com/alexisbcook/categorical-variables).**\n",
    "\n",
    "---\n"
   ]
  },
  {
   "cell_type": "markdown",
   "id": "2f516d44",
   "metadata": {
    "papermill": {
     "duration": 0.010174,
     "end_time": "2022-07-02T02:41:07.088127",
     "exception": false,
     "start_time": "2022-07-02T02:41:07.077953",
     "status": "completed"
    },
    "tags": []
   },
   "source": [
    "By encoding **categorical variables**, you'll obtain your best results thus far!\n",
    "\n",
    "# Setup\n",
    "\n",
    "The questions below will give you feedback on your work. Run the following cell to set up the feedback system."
   ]
  },
  {
   "cell_type": "code",
   "execution_count": 1,
   "id": "3bd06c6c",
   "metadata": {
    "execution": {
     "iopub.execute_input": "2022-07-02T02:41:07.112044Z",
     "iopub.status.busy": "2022-07-02T02:41:07.111368Z",
     "iopub.status.idle": "2022-07-02T02:41:07.169987Z",
     "shell.execute_reply": "2022-07-02T02:41:07.168616Z"
    },
    "papermill": {
     "duration": 0.074411,
     "end_time": "2022-07-02T02:41:07.173098",
     "exception": false,
     "start_time": "2022-07-02T02:41:07.098687",
     "status": "completed"
    },
    "tags": []
   },
   "outputs": [
    {
     "name": "stdout",
     "output_type": "stream",
     "text": [
      "Setup Complete\n"
     ]
    }
   ],
   "source": [
    "# Set up code checking\n",
    "import os\n",
    "if not os.path.exists(\"../input/train.csv\"):\n",
    "    os.symlink(\"../input/home-data-for-ml-course/train.csv\", \"../input/train.csv\")  \n",
    "    os.symlink(\"../input/home-data-for-ml-course/test.csv\", \"../input/test.csv\") \n",
    "from learntools.core import binder\n",
    "binder.bind(globals())\n",
    "from learntools.ml_intermediate.ex3 import *\n",
    "print(\"Setup Complete\")"
   ]
  },
  {
   "cell_type": "markdown",
   "id": "d7fa64d7",
   "metadata": {
    "papermill": {
     "duration": 0.010422,
     "end_time": "2022-07-02T02:41:07.194418",
     "exception": false,
     "start_time": "2022-07-02T02:41:07.183996",
     "status": "completed"
    },
    "tags": []
   },
   "source": [
    "In this exercise, you will work with data from the [Housing Prices Competition for Kaggle Learn Users](https://www.kaggle.com/c/home-data-for-ml-course). \n",
    "\n",
    "![Ames Housing dataset image](https://i.imgur.com/lTJVG4e.png)\n",
    "\n",
    "Run the next code cell without changes to load the training and validation sets in `X_train`, `X_valid`, `y_train`, and `y_valid`.  The test set is loaded in `X_test`."
   ]
  },
  {
   "cell_type": "code",
   "execution_count": 2,
   "id": "f77ff045",
   "metadata": {
    "execution": {
     "iopub.execute_input": "2022-07-02T02:41:07.219172Z",
     "iopub.status.busy": "2022-07-02T02:41:07.218360Z",
     "iopub.status.idle": "2022-07-02T02:41:08.472286Z",
     "shell.execute_reply": "2022-07-02T02:41:08.470859Z"
    },
    "papermill": {
     "duration": 1.270051,
     "end_time": "2022-07-02T02:41:08.475353",
     "exception": false,
     "start_time": "2022-07-02T02:41:07.205302",
     "status": "completed"
    },
    "tags": []
   },
   "outputs": [],
   "source": [
    "import pandas as pd\n",
    "from sklearn.model_selection import train_test_split\n",
    "\n",
    "# Read the data\n",
    "X = pd.read_csv('../input/train.csv', index_col='Id') \n",
    "X_test = pd.read_csv('../input/test.csv', index_col='Id')\n",
    "\n",
    "# Remove rows with missing target, separate target from predictors\n",
    "X.dropna(axis=0, subset=['SalePrice'], inplace=True)\n",
    "y = X.SalePrice\n",
    "X.drop(['SalePrice'], axis=1, inplace=True)\n",
    "\n",
    "# To keep things simple, we'll drop columns with missing values\n",
    "cols_with_missing = [col for col in X.columns if X[col].isnull().any()] \n",
    "X.drop(cols_with_missing, axis=1, inplace=True)\n",
    "X_test.drop(cols_with_missing, axis=1, inplace=True)\n",
    "\n",
    "# Break off validation set from training data\n",
    "X_train, X_valid, y_train, y_valid = train_test_split(X, y,\n",
    "                                                      train_size=0.8, test_size=0.2,\n",
    "                                                      random_state=0)"
   ]
  },
  {
   "cell_type": "markdown",
   "id": "a1ba4457",
   "metadata": {
    "papermill": {
     "duration": 0.010445,
     "end_time": "2022-07-02T02:41:08.496883",
     "exception": false,
     "start_time": "2022-07-02T02:41:08.486438",
     "status": "completed"
    },
    "tags": []
   },
   "source": [
    "Use the next code cell to print the first five rows of the data."
   ]
  },
  {
   "cell_type": "code",
   "execution_count": 3,
   "id": "7c014188",
   "metadata": {
    "execution": {
     "iopub.execute_input": "2022-07-02T02:41:08.520083Z",
     "iopub.status.busy": "2022-07-02T02:41:08.519669Z",
     "iopub.status.idle": "2022-07-02T02:41:08.552427Z",
     "shell.execute_reply": "2022-07-02T02:41:08.551152Z"
    },
    "papermill": {
     "duration": 0.047701,
     "end_time": "2022-07-02T02:41:08.555197",
     "exception": false,
     "start_time": "2022-07-02T02:41:08.507496",
     "status": "completed"
    },
    "tags": []
   },
   "outputs": [
    {
     "data": {
      "text/html": [
       "<div>\n",
       "<style scoped>\n",
       "    .dataframe tbody tr th:only-of-type {\n",
       "        vertical-align: middle;\n",
       "    }\n",
       "\n",
       "    .dataframe tbody tr th {\n",
       "        vertical-align: top;\n",
       "    }\n",
       "\n",
       "    .dataframe thead th {\n",
       "        text-align: right;\n",
       "    }\n",
       "</style>\n",
       "<table border=\"1\" class=\"dataframe\">\n",
       "  <thead>\n",
       "    <tr style=\"text-align: right;\">\n",
       "      <th></th>\n",
       "      <th>MSSubClass</th>\n",
       "      <th>MSZoning</th>\n",
       "      <th>LotArea</th>\n",
       "      <th>Street</th>\n",
       "      <th>LotShape</th>\n",
       "      <th>LandContour</th>\n",
       "      <th>Utilities</th>\n",
       "      <th>LotConfig</th>\n",
       "      <th>LandSlope</th>\n",
       "      <th>Neighborhood</th>\n",
       "      <th>...</th>\n",
       "      <th>OpenPorchSF</th>\n",
       "      <th>EnclosedPorch</th>\n",
       "      <th>3SsnPorch</th>\n",
       "      <th>ScreenPorch</th>\n",
       "      <th>PoolArea</th>\n",
       "      <th>MiscVal</th>\n",
       "      <th>MoSold</th>\n",
       "      <th>YrSold</th>\n",
       "      <th>SaleType</th>\n",
       "      <th>SaleCondition</th>\n",
       "    </tr>\n",
       "    <tr>\n",
       "      <th>Id</th>\n",
       "      <th></th>\n",
       "      <th></th>\n",
       "      <th></th>\n",
       "      <th></th>\n",
       "      <th></th>\n",
       "      <th></th>\n",
       "      <th></th>\n",
       "      <th></th>\n",
       "      <th></th>\n",
       "      <th></th>\n",
       "      <th></th>\n",
       "      <th></th>\n",
       "      <th></th>\n",
       "      <th></th>\n",
       "      <th></th>\n",
       "      <th></th>\n",
       "      <th></th>\n",
       "      <th></th>\n",
       "      <th></th>\n",
       "      <th></th>\n",
       "      <th></th>\n",
       "    </tr>\n",
       "  </thead>\n",
       "  <tbody>\n",
       "    <tr>\n",
       "      <th>619</th>\n",
       "      <td>20</td>\n",
       "      <td>RL</td>\n",
       "      <td>11694</td>\n",
       "      <td>Pave</td>\n",
       "      <td>Reg</td>\n",
       "      <td>Lvl</td>\n",
       "      <td>AllPub</td>\n",
       "      <td>Inside</td>\n",
       "      <td>Gtl</td>\n",
       "      <td>NridgHt</td>\n",
       "      <td>...</td>\n",
       "      <td>108</td>\n",
       "      <td>0</td>\n",
       "      <td>0</td>\n",
       "      <td>260</td>\n",
       "      <td>0</td>\n",
       "      <td>0</td>\n",
       "      <td>7</td>\n",
       "      <td>2007</td>\n",
       "      <td>New</td>\n",
       "      <td>Partial</td>\n",
       "    </tr>\n",
       "    <tr>\n",
       "      <th>871</th>\n",
       "      <td>20</td>\n",
       "      <td>RL</td>\n",
       "      <td>6600</td>\n",
       "      <td>Pave</td>\n",
       "      <td>Reg</td>\n",
       "      <td>Lvl</td>\n",
       "      <td>AllPub</td>\n",
       "      <td>Inside</td>\n",
       "      <td>Gtl</td>\n",
       "      <td>NAmes</td>\n",
       "      <td>...</td>\n",
       "      <td>0</td>\n",
       "      <td>0</td>\n",
       "      <td>0</td>\n",
       "      <td>0</td>\n",
       "      <td>0</td>\n",
       "      <td>0</td>\n",
       "      <td>8</td>\n",
       "      <td>2009</td>\n",
       "      <td>WD</td>\n",
       "      <td>Normal</td>\n",
       "    </tr>\n",
       "    <tr>\n",
       "      <th>93</th>\n",
       "      <td>30</td>\n",
       "      <td>RL</td>\n",
       "      <td>13360</td>\n",
       "      <td>Pave</td>\n",
       "      <td>IR1</td>\n",
       "      <td>HLS</td>\n",
       "      <td>AllPub</td>\n",
       "      <td>Inside</td>\n",
       "      <td>Gtl</td>\n",
       "      <td>Crawfor</td>\n",
       "      <td>...</td>\n",
       "      <td>0</td>\n",
       "      <td>44</td>\n",
       "      <td>0</td>\n",
       "      <td>0</td>\n",
       "      <td>0</td>\n",
       "      <td>0</td>\n",
       "      <td>8</td>\n",
       "      <td>2009</td>\n",
       "      <td>WD</td>\n",
       "      <td>Normal</td>\n",
       "    </tr>\n",
       "    <tr>\n",
       "      <th>818</th>\n",
       "      <td>20</td>\n",
       "      <td>RL</td>\n",
       "      <td>13265</td>\n",
       "      <td>Pave</td>\n",
       "      <td>IR1</td>\n",
       "      <td>Lvl</td>\n",
       "      <td>AllPub</td>\n",
       "      <td>CulDSac</td>\n",
       "      <td>Gtl</td>\n",
       "      <td>Mitchel</td>\n",
       "      <td>...</td>\n",
       "      <td>59</td>\n",
       "      <td>0</td>\n",
       "      <td>0</td>\n",
       "      <td>0</td>\n",
       "      <td>0</td>\n",
       "      <td>0</td>\n",
       "      <td>7</td>\n",
       "      <td>2008</td>\n",
       "      <td>WD</td>\n",
       "      <td>Normal</td>\n",
       "    </tr>\n",
       "    <tr>\n",
       "      <th>303</th>\n",
       "      <td>20</td>\n",
       "      <td>RL</td>\n",
       "      <td>13704</td>\n",
       "      <td>Pave</td>\n",
       "      <td>IR1</td>\n",
       "      <td>Lvl</td>\n",
       "      <td>AllPub</td>\n",
       "      <td>Corner</td>\n",
       "      <td>Gtl</td>\n",
       "      <td>CollgCr</td>\n",
       "      <td>...</td>\n",
       "      <td>81</td>\n",
       "      <td>0</td>\n",
       "      <td>0</td>\n",
       "      <td>0</td>\n",
       "      <td>0</td>\n",
       "      <td>0</td>\n",
       "      <td>1</td>\n",
       "      <td>2006</td>\n",
       "      <td>WD</td>\n",
       "      <td>Normal</td>\n",
       "    </tr>\n",
       "  </tbody>\n",
       "</table>\n",
       "<p>5 rows × 60 columns</p>\n",
       "</div>"
      ],
      "text/plain": [
       "     MSSubClass MSZoning  LotArea Street LotShape LandContour Utilities  \\\n",
       "Id                                                                        \n",
       "619          20       RL    11694   Pave      Reg         Lvl    AllPub   \n",
       "871          20       RL     6600   Pave      Reg         Lvl    AllPub   \n",
       "93           30       RL    13360   Pave      IR1         HLS    AllPub   \n",
       "818          20       RL    13265   Pave      IR1         Lvl    AllPub   \n",
       "303          20       RL    13704   Pave      IR1         Lvl    AllPub   \n",
       "\n",
       "    LotConfig LandSlope Neighborhood  ... OpenPorchSF EnclosedPorch 3SsnPorch  \\\n",
       "Id                                    ...                                       \n",
       "619    Inside       Gtl      NridgHt  ...         108             0         0   \n",
       "871    Inside       Gtl        NAmes  ...           0             0         0   \n",
       "93     Inside       Gtl      Crawfor  ...           0            44         0   \n",
       "818   CulDSac       Gtl      Mitchel  ...          59             0         0   \n",
       "303    Corner       Gtl      CollgCr  ...          81             0         0   \n",
       "\n",
       "    ScreenPorch  PoolArea  MiscVal  MoSold  YrSold SaleType SaleCondition  \n",
       "Id                                                                         \n",
       "619         260         0        0       7    2007      New       Partial  \n",
       "871           0         0        0       8    2009       WD        Normal  \n",
       "93            0         0        0       8    2009       WD        Normal  \n",
       "818           0         0        0       7    2008       WD        Normal  \n",
       "303           0         0        0       1    2006       WD        Normal  \n",
       "\n",
       "[5 rows x 60 columns]"
      ]
     },
     "execution_count": 3,
     "metadata": {},
     "output_type": "execute_result"
    }
   ],
   "source": [
    "X_train.head()"
   ]
  },
  {
   "cell_type": "markdown",
   "id": "5f37897a",
   "metadata": {
    "papermill": {
     "duration": 0.011005,
     "end_time": "2022-07-02T02:41:08.577906",
     "exception": false,
     "start_time": "2022-07-02T02:41:08.566901",
     "status": "completed"
    },
    "tags": []
   },
   "source": [
    "Notice that the dataset contains both numerical and categorical variables.  You'll need to encode the categorical data before training a model.\n",
    "\n",
    "To compare different models, you'll use the same `score_dataset()` function from the tutorial.  This function reports the [mean absolute error](https://en.wikipedia.org/wiki/Mean_absolute_error) (MAE) from a random forest model."
   ]
  },
  {
   "cell_type": "code",
   "execution_count": 4,
   "id": "245355c4",
   "metadata": {
    "execution": {
     "iopub.execute_input": "2022-07-02T02:41:08.602864Z",
     "iopub.status.busy": "2022-07-02T02:41:08.602443Z",
     "iopub.status.idle": "2022-07-02T02:41:08.806028Z",
     "shell.execute_reply": "2022-07-02T02:41:08.804968Z"
    },
    "papermill": {
     "duration": 0.219556,
     "end_time": "2022-07-02T02:41:08.808946",
     "exception": false,
     "start_time": "2022-07-02T02:41:08.589390",
     "status": "completed"
    },
    "tags": []
   },
   "outputs": [],
   "source": [
    "from sklearn.ensemble import RandomForestRegressor\n",
    "from sklearn.metrics import mean_absolute_error\n",
    "\n",
    "# function for comparing different approaches\n",
    "def score_dataset(X_train, X_valid, y_train, y_valid):\n",
    "    model = RandomForestRegressor(n_estimators=100, random_state=0)\n",
    "    model.fit(X_train, y_train)\n",
    "    preds = model.predict(X_valid)\n",
    "    return mean_absolute_error(y_valid, preds)"
   ]
  },
  {
   "cell_type": "markdown",
   "id": "7a86be85",
   "metadata": {
    "papermill": {
     "duration": 0.010867,
     "end_time": "2022-07-02T02:41:08.831094",
     "exception": false,
     "start_time": "2022-07-02T02:41:08.820227",
     "status": "completed"
    },
    "tags": []
   },
   "source": [
    "# Step 1: Drop columns with categorical data\n",
    "\n",
    "You'll get started with the most straightforward approach.  Use the code cell below to preprocess the data in `X_train` and `X_valid` to remove columns with categorical data.  Set the preprocessed DataFrames to `drop_X_train` and `drop_X_valid`, respectively.  "
   ]
  },
  {
   "cell_type": "code",
   "execution_count": 5,
   "id": "719001ac",
   "metadata": {
    "execution": {
     "iopub.execute_input": "2022-07-02T02:41:08.855329Z",
     "iopub.status.busy": "2022-07-02T02:41:08.854951Z",
     "iopub.status.idle": "2022-07-02T02:41:08.867528Z",
     "shell.execute_reply": "2022-07-02T02:41:08.866591Z"
    },
    "papermill": {
     "duration": 0.027603,
     "end_time": "2022-07-02T02:41:08.869637",
     "exception": false,
     "start_time": "2022-07-02T02:41:08.842034",
     "status": "completed"
    },
    "tags": []
   },
   "outputs": [
    {
     "data": {
      "application/javascript": [
       "parent.postMessage({\"jupyterEvent\": \"custom.exercise_interaction\", \"data\": {\"outcomeType\": 1, \"valueTowardsCompletion\": 0.5, \"interactionType\": 1, \"questionType\": 2, \"questionId\": \"1_Drop\", \"learnToolsVersion\": \"0.3.4\", \"failureMessage\": \"\", \"exceptionClass\": \"\", \"trace\": \"\"}}, \"*\")"
      ],
      "text/plain": [
       "<IPython.core.display.Javascript object>"
      ]
     },
     "metadata": {},
     "output_type": "display_data"
    },
    {
     "data": {
      "text/markdown": [
       "<span style=\"color:#33cc33\">Correct</span>"
      ],
      "text/plain": [
       "Correct"
      ]
     },
     "metadata": {},
     "output_type": "display_data"
    }
   ],
   "source": [
    "# Fill in the lines below: drop columns in training and validation data\n",
    "drop_X_train = X_train.select_dtypes(exclude=['object'])\n",
    "drop_X_valid = X_valid.select_dtypes(exclude=['object'])\n",
    "\n",
    "# Check your answers\n",
    "step_1.check()"
   ]
  },
  {
   "cell_type": "code",
   "execution_count": 6,
   "id": "30a0458e",
   "metadata": {
    "execution": {
     "iopub.execute_input": "2022-07-02T02:41:08.894648Z",
     "iopub.status.busy": "2022-07-02T02:41:08.894265Z",
     "iopub.status.idle": "2022-07-02T02:41:08.898973Z",
     "shell.execute_reply": "2022-07-02T02:41:08.897620Z"
    },
    "papermill": {
     "duration": 0.019943,
     "end_time": "2022-07-02T02:41:08.901156",
     "exception": false,
     "start_time": "2022-07-02T02:41:08.881213",
     "status": "completed"
    },
    "tags": []
   },
   "outputs": [],
   "source": [
    "# Lines below will give you a hint or solution code\n",
    "#step_1.hint()\n",
    "#step_1.solution()"
   ]
  },
  {
   "cell_type": "markdown",
   "id": "3bae3cc8",
   "metadata": {
    "papermill": {
     "duration": 0.011283,
     "end_time": "2022-07-02T02:41:08.923816",
     "exception": false,
     "start_time": "2022-07-02T02:41:08.912533",
     "status": "completed"
    },
    "tags": []
   },
   "source": [
    "Run the next code cell to get the MAE for this approach."
   ]
  },
  {
   "cell_type": "code",
   "execution_count": 7,
   "id": "f42f0823",
   "metadata": {
    "execution": {
     "iopub.execute_input": "2022-07-02T02:41:08.949931Z",
     "iopub.status.busy": "2022-07-02T02:41:08.949503Z",
     "iopub.status.idle": "2022-07-02T02:41:10.036397Z",
     "shell.execute_reply": "2022-07-02T02:41:10.034698Z"
    },
    "papermill": {
     "duration": 1.103269,
     "end_time": "2022-07-02T02:41:10.039747",
     "exception": false,
     "start_time": "2022-07-02T02:41:08.936478",
     "status": "completed"
    },
    "tags": []
   },
   "outputs": [
    {
     "name": "stdout",
     "output_type": "stream",
     "text": [
      "MAE from Approach 1 (Drop categorical variables):\n",
      "17837.82570776256\n"
     ]
    }
   ],
   "source": [
    "print(\"MAE from Approach 1 (Drop categorical variables):\")\n",
    "print(score_dataset(drop_X_train, drop_X_valid, y_train, y_valid))"
   ]
  },
  {
   "cell_type": "markdown",
   "id": "ca20ebeb",
   "metadata": {
    "papermill": {
     "duration": 0.011634,
     "end_time": "2022-07-02T02:41:10.074134",
     "exception": false,
     "start_time": "2022-07-02T02:41:10.062500",
     "status": "completed"
    },
    "tags": []
   },
   "source": [
    "Before jumping into ordinal encoding, we'll investigate the dataset.  Specifically, we'll look at the `'Condition2'` column.  The code cell below prints the unique entries in both the training and validation sets."
   ]
  },
  {
   "cell_type": "code",
   "execution_count": 8,
   "id": "a1290566",
   "metadata": {
    "execution": {
     "iopub.execute_input": "2022-07-02T02:41:10.100022Z",
     "iopub.status.busy": "2022-07-02T02:41:10.099329Z",
     "iopub.status.idle": "2022-07-02T02:41:10.111181Z",
     "shell.execute_reply": "2022-07-02T02:41:10.109496Z"
    },
    "papermill": {
     "duration": 0.027912,
     "end_time": "2022-07-02T02:41:10.113651",
     "exception": false,
     "start_time": "2022-07-02T02:41:10.085739",
     "status": "completed"
    },
    "tags": []
   },
   "outputs": [
    {
     "name": "stdout",
     "output_type": "stream",
     "text": [
      "Unique values in 'Condition2' column in training data: ['Norm' 'PosA' 'Feedr' 'PosN' 'Artery' 'RRAe']\n",
      "\n",
      "Unique values in 'Condition2' column in validation data: ['Norm' 'RRAn' 'RRNn' 'Artery' 'Feedr' 'PosN']\n"
     ]
    }
   ],
   "source": [
    "print(\"Unique values in 'Condition2' column in training data:\", X_train['Condition2'].unique())\n",
    "print(\"\\nUnique values in 'Condition2' column in validation data:\", X_valid['Condition2'].unique())"
   ]
  },
  {
   "cell_type": "markdown",
   "id": "6528a5aa",
   "metadata": {
    "papermill": {
     "duration": 0.01171,
     "end_time": "2022-07-02T02:41:10.139373",
     "exception": false,
     "start_time": "2022-07-02T02:41:10.127663",
     "status": "completed"
    },
    "tags": []
   },
   "source": [
    "# Step 2: Ordinal encoding\n",
    "\n",
    "### Part A\n",
    "\n",
    "If you now write code to: \n",
    "- fit an ordinal encoder to the training data, and then \n",
    "- use it to transform both the training and validation data, \n",
    "\n",
    "you'll get an error.  Can you see why this is the case?  (_You'll need  to use the above output to answer this question._)"
   ]
  },
  {
   "cell_type": "code",
   "execution_count": 9,
   "id": "228fac93",
   "metadata": {
    "execution": {
     "iopub.execute_input": "2022-07-02T02:41:10.165498Z",
     "iopub.status.busy": "2022-07-02T02:41:10.165104Z",
     "iopub.status.idle": "2022-07-02T02:41:10.175498Z",
     "shell.execute_reply": "2022-07-02T02:41:10.174271Z"
    },
    "papermill": {
     "duration": 0.032991,
     "end_time": "2022-07-02T02:41:10.184356",
     "exception": false,
     "start_time": "2022-07-02T02:41:10.151365",
     "status": "completed"
    },
    "tags": []
   },
   "outputs": [
    {
     "data": {
      "application/javascript": [
       "parent.postMessage({\"jupyterEvent\": \"custom.exercise_interaction\", \"data\": {\"outcomeType\": 1, \"valueTowardsCompletion\": 0.5, \"interactionType\": 1, \"questionType\": 4, \"questionId\": \"2.1_LabelA\", \"learnToolsVersion\": \"0.3.4\", \"failureMessage\": \"\", \"exceptionClass\": \"\", \"trace\": \"\"}}, \"*\")"
      ],
      "text/plain": [
       "<IPython.core.display.Javascript object>"
      ]
     },
     "metadata": {},
     "output_type": "display_data"
    },
    {
     "data": {
      "text/markdown": [
       "<span style=\"color:#33cc33\">Correct:</span> \n",
       "\n",
       "Fitting an ordinal encoder to a column in the training data creates a corresponding integer-valued label for each unique value **that appears in the training data**. In the case that the validation data contains values that don't also appear in the training data, the encoder will throw an error, because these values won't have an integer assigned to them.  Notice that the `'Condition2'` column in the validation data contains the values `'RRAn'` and `'RRNn'`, but these don't appear in the training data -- thus, if we try to use an ordinal encoder with scikit-learn, the code will throw an error."
      ],
      "text/plain": [
       "Correct: \n",
       "\n",
       "Fitting an ordinal encoder to a column in the training data creates a corresponding integer-valued label for each unique value **that appears in the training data**. In the case that the validation data contains values that don't also appear in the training data, the encoder will throw an error, because these values won't have an integer assigned to them.  Notice that the `'Condition2'` column in the validation data contains the values `'RRAn'` and `'RRNn'`, but these don't appear in the training data -- thus, if we try to use an ordinal encoder with scikit-learn, the code will throw an error."
      ]
     },
     "metadata": {},
     "output_type": "display_data"
    }
   ],
   "source": [
    "# Check your answer (Run this code cell to receive credit!)\n",
    "step_2.a.check()"
   ]
  },
  {
   "cell_type": "code",
   "execution_count": 10,
   "id": "215382bb",
   "metadata": {
    "execution": {
     "iopub.execute_input": "2022-07-02T02:41:10.217944Z",
     "iopub.status.busy": "2022-07-02T02:41:10.217424Z",
     "iopub.status.idle": "2022-07-02T02:41:10.223679Z",
     "shell.execute_reply": "2022-07-02T02:41:10.222096Z"
    },
    "papermill": {
     "duration": 0.022892,
     "end_time": "2022-07-02T02:41:10.226587",
     "exception": false,
     "start_time": "2022-07-02T02:41:10.203695",
     "status": "completed"
    },
    "tags": []
   },
   "outputs": [],
   "source": [
    "#step_2.a.hint()"
   ]
  },
  {
   "cell_type": "markdown",
   "id": "6ff29801",
   "metadata": {
    "papermill": {
     "duration": 0.014298,
     "end_time": "2022-07-02T02:41:10.260491",
     "exception": false,
     "start_time": "2022-07-02T02:41:10.246193",
     "status": "completed"
    },
    "tags": []
   },
   "source": [
    "This is a common problem that you'll encounter with real-world data, and there are many approaches to fixing this issue.  For instance, you can write a custom ordinal encoder to deal with new categories.  The simplest approach, however, is to drop the problematic categorical columns.  \n",
    "\n",
    "Run the code cell below to save the problematic columns to a Python list `bad_label_cols`.  Likewise, columns that can be safely ordinal encoded are stored in `good_label_cols`."
   ]
  },
  {
   "cell_type": "code",
   "execution_count": 11,
   "id": "08372ae6",
   "metadata": {
    "execution": {
     "iopub.execute_input": "2022-07-02T02:41:10.292086Z",
     "iopub.status.busy": "2022-07-02T02:41:10.291544Z",
     "iopub.status.idle": "2022-07-02T02:41:10.319409Z",
     "shell.execute_reply": "2022-07-02T02:41:10.317728Z"
    },
    "papermill": {
     "duration": 0.048213,
     "end_time": "2022-07-02T02:41:10.323622",
     "exception": false,
     "start_time": "2022-07-02T02:41:10.275409",
     "status": "completed"
    },
    "tags": []
   },
   "outputs": [
    {
     "name": "stdout",
     "output_type": "stream",
     "text": [
      "Categorical columns that will be ordinal encoded: ['MSZoning', 'Street', 'LotShape', 'LandContour', 'Utilities', 'LotConfig', 'LandSlope', 'Neighborhood', 'Condition1', 'BldgType', 'HouseStyle', 'RoofStyle', 'Exterior1st', 'Exterior2nd', 'ExterQual', 'ExterCond', 'Foundation', 'Heating', 'HeatingQC', 'CentralAir', 'KitchenQual', 'PavedDrive', 'SaleType', 'SaleCondition']\n",
      "\n",
      "Categorical columns that will be dropped from the dataset: ['Functional', 'RoofMatl', 'Condition2']\n"
     ]
    }
   ],
   "source": [
    "# Categorical columns in the training data\n",
    "object_cols = [col for col in X_train.columns if X_train[col].dtype == \"object\"]\n",
    "\n",
    "# Columns that can be safely ordinal encoded\n",
    "good_label_cols = [col for col in object_cols if \n",
    "                   set(X_valid[col]).issubset(set(X_train[col]))]\n",
    "        \n",
    "# Problematic columns that will be dropped from the dataset\n",
    "bad_label_cols = list(set(object_cols)-set(good_label_cols))\n",
    "        \n",
    "print('Categorical columns that will be ordinal encoded:', good_label_cols)\n",
    "print('\\nCategorical columns that will be dropped from the dataset:', bad_label_cols)"
   ]
  },
  {
   "cell_type": "markdown",
   "id": "774aa2f2",
   "metadata": {
    "papermill": {
     "duration": 0.0119,
     "end_time": "2022-07-02T02:41:10.349297",
     "exception": false,
     "start_time": "2022-07-02T02:41:10.337397",
     "status": "completed"
    },
    "tags": []
   },
   "source": [
    "### Part B\n",
    "\n",
    "Use the next code cell to ordinal encode the data in `X_train` and `X_valid`.  Set the preprocessed DataFrames to `label_X_train` and `label_X_valid`, respectively.  \n",
    "- We have provided code below to drop the categorical columns in `bad_label_cols` from the dataset. \n",
    "- You should ordinal encode the categorical columns in `good_label_cols`.  "
   ]
  },
  {
   "cell_type": "code",
   "execution_count": 12,
   "id": "0aad1c1d",
   "metadata": {
    "execution": {
     "iopub.execute_input": "2022-07-02T02:41:10.376134Z",
     "iopub.status.busy": "2022-07-02T02:41:10.375589Z",
     "iopub.status.idle": "2022-07-02T02:41:10.437023Z",
     "shell.execute_reply": "2022-07-02T02:41:10.435541Z"
    },
    "papermill": {
     "duration": 0.078468,
     "end_time": "2022-07-02T02:41:10.439870",
     "exception": false,
     "start_time": "2022-07-02T02:41:10.361402",
     "status": "completed"
    },
    "tags": []
   },
   "outputs": [
    {
     "data": {
      "application/javascript": [
       "parent.postMessage({\"jupyterEvent\": \"custom.exercise_interaction\", \"data\": {\"outcomeType\": 1, \"valueTowardsCompletion\": 0.5, \"interactionType\": 1, \"questionType\": 2, \"questionId\": \"2.2_LabelB\", \"learnToolsVersion\": \"0.3.4\", \"failureMessage\": \"\", \"exceptionClass\": \"\", \"trace\": \"\"}}, \"*\")"
      ],
      "text/plain": [
       "<IPython.core.display.Javascript object>"
      ]
     },
     "metadata": {},
     "output_type": "display_data"
    },
    {
     "data": {
      "text/markdown": [
       "<span style=\"color:#33cc33\">Correct</span>"
      ],
      "text/plain": [
       "Correct"
      ]
     },
     "metadata": {},
     "output_type": "display_data"
    }
   ],
   "source": [
    "from sklearn.preprocessing import OrdinalEncoder\n",
    "\n",
    "# Drop categorical columns that will not be encoded\n",
    "label_X_train = X_train.drop(bad_label_cols, axis=1)\n",
    "label_X_valid = X_valid.drop(bad_label_cols, axis=1)\n",
    "\n",
    "# Apply ordinal encoder \n",
    "____ # Your code here\n",
    "ordinal_encoder = OrdinalEncoder()\n",
    "label_X_train[good_label_cols] = ordinal_encoder.fit_transform(X_train[good_label_cols])\n",
    "label_X_valid[good_label_cols] = ordinal_encoder.transform(X_valid[good_label_cols])\n",
    "    \n",
    "# Check your answer\n",
    "step_2.b.check()"
   ]
  },
  {
   "cell_type": "code",
   "execution_count": 13,
   "id": "fe4fa407",
   "metadata": {
    "execution": {
     "iopub.execute_input": "2022-07-02T02:41:10.466764Z",
     "iopub.status.busy": "2022-07-02T02:41:10.466003Z",
     "iopub.status.idle": "2022-07-02T02:41:10.471393Z",
     "shell.execute_reply": "2022-07-02T02:41:10.470432Z"
    },
    "papermill": {
     "duration": 0.021682,
     "end_time": "2022-07-02T02:41:10.473882",
     "exception": false,
     "start_time": "2022-07-02T02:41:10.452200",
     "status": "completed"
    },
    "tags": []
   },
   "outputs": [],
   "source": [
    "# Lines below will give you a hint or solution code\n",
    "#step_2.b.hint()\n",
    "#step_2.b.solution()"
   ]
  },
  {
   "cell_type": "markdown",
   "id": "130a8149",
   "metadata": {
    "papermill": {
     "duration": 0.012298,
     "end_time": "2022-07-02T02:41:10.499052",
     "exception": false,
     "start_time": "2022-07-02T02:41:10.486754",
     "status": "completed"
    },
    "tags": []
   },
   "source": [
    "Run the next code cell to get the MAE for this approach."
   ]
  },
  {
   "cell_type": "code",
   "execution_count": 14,
   "id": "2ce4289c",
   "metadata": {
    "execution": {
     "iopub.execute_input": "2022-07-02T02:41:10.527401Z",
     "iopub.status.busy": "2022-07-02T02:41:10.526314Z",
     "iopub.status.idle": "2022-07-02T02:41:11.916612Z",
     "shell.execute_reply": "2022-07-02T02:41:11.915264Z"
    },
    "papermill": {
     "duration": 1.40753,
     "end_time": "2022-07-02T02:41:11.919479",
     "exception": false,
     "start_time": "2022-07-02T02:41:10.511949",
     "status": "completed"
    },
    "tags": []
   },
   "outputs": [
    {
     "name": "stdout",
     "output_type": "stream",
     "text": [
      "MAE from Approach 2 (Ordinal Encoding):\n",
      "17098.01649543379\n"
     ]
    }
   ],
   "source": [
    "print(\"MAE from Approach 2 (Ordinal Encoding):\") \n",
    "print(score_dataset(label_X_train, label_X_valid, y_train, y_valid))"
   ]
  },
  {
   "cell_type": "markdown",
   "id": "38652f66",
   "metadata": {
    "papermill": {
     "duration": 0.012458,
     "end_time": "2022-07-02T02:41:11.944568",
     "exception": false,
     "start_time": "2022-07-02T02:41:11.932110",
     "status": "completed"
    },
    "tags": []
   },
   "source": [
    "So far, you've tried two different approaches to dealing with categorical variables.  And, you've seen that encoding categorical data yields better results than removing columns from the dataset.\n",
    "\n",
    "Soon, you'll try one-hot encoding.  Before then, there's one additional topic we need to cover.  Begin by running the next code cell without changes.  "
   ]
  },
  {
   "cell_type": "code",
   "execution_count": 15,
   "id": "1fd5df54",
   "metadata": {
    "execution": {
     "iopub.execute_input": "2022-07-02T02:41:11.971156Z",
     "iopub.status.busy": "2022-07-02T02:41:11.970751Z",
     "iopub.status.idle": "2022-07-02T02:41:11.986933Z",
     "shell.execute_reply": "2022-07-02T02:41:11.985739Z"
    },
    "papermill": {
     "duration": 0.032231,
     "end_time": "2022-07-02T02:41:11.989245",
     "exception": false,
     "start_time": "2022-07-02T02:41:11.957014",
     "status": "completed"
    },
    "tags": []
   },
   "outputs": [
    {
     "data": {
      "text/plain": [
       "[('Street', 2),\n",
       " ('Utilities', 2),\n",
       " ('CentralAir', 2),\n",
       " ('LandSlope', 3),\n",
       " ('PavedDrive', 3),\n",
       " ('LotShape', 4),\n",
       " ('LandContour', 4),\n",
       " ('ExterQual', 4),\n",
       " ('KitchenQual', 4),\n",
       " ('MSZoning', 5),\n",
       " ('LotConfig', 5),\n",
       " ('BldgType', 5),\n",
       " ('ExterCond', 5),\n",
       " ('HeatingQC', 5),\n",
       " ('Condition2', 6),\n",
       " ('RoofStyle', 6),\n",
       " ('Foundation', 6),\n",
       " ('Heating', 6),\n",
       " ('Functional', 6),\n",
       " ('SaleCondition', 6),\n",
       " ('RoofMatl', 7),\n",
       " ('HouseStyle', 8),\n",
       " ('Condition1', 9),\n",
       " ('SaleType', 9),\n",
       " ('Exterior1st', 15),\n",
       " ('Exterior2nd', 16),\n",
       " ('Neighborhood', 25)]"
      ]
     },
     "execution_count": 15,
     "metadata": {},
     "output_type": "execute_result"
    }
   ],
   "source": [
    "# Get number of unique entries in each column with categorical data\n",
    "object_nunique = list(map(lambda col: X_train[col].nunique(), object_cols))\n",
    "d = dict(zip(object_cols, object_nunique))\n",
    "\n",
    "# Print number of unique entries by column, in ascending order\n",
    "sorted(d.items(), key=lambda x: x[1])"
   ]
  },
  {
   "cell_type": "markdown",
   "id": "57cba6fb",
   "metadata": {
    "papermill": {
     "duration": 0.013104,
     "end_time": "2022-07-02T02:41:12.015276",
     "exception": false,
     "start_time": "2022-07-02T02:41:12.002172",
     "status": "completed"
    },
    "tags": []
   },
   "source": [
    "# Step 3: Investigating cardinality\n",
    "\n",
    "### Part A\n",
    "\n",
    "The output above shows, for each column with categorical data, the number of unique values in the column.  For instance, the `'Street'` column in the training data has two unique values: `'Grvl'` and `'Pave'`, corresponding to a gravel road and a paved road, respectively.\n",
    "\n",
    "We refer to the number of unique entries of a categorical variable as the **cardinality** of that categorical variable.  For instance, the `'Street'` variable has cardinality 2.\n",
    "\n",
    "Use the output above to answer the questions below."
   ]
  },
  {
   "cell_type": "code",
   "execution_count": 16,
   "id": "01c1ed87",
   "metadata": {
    "execution": {
     "iopub.execute_input": "2022-07-02T02:41:12.043518Z",
     "iopub.status.busy": "2022-07-02T02:41:12.042436Z",
     "iopub.status.idle": "2022-07-02T02:41:12.050691Z",
     "shell.execute_reply": "2022-07-02T02:41:12.049840Z"
    },
    "papermill": {
     "duration": 0.024606,
     "end_time": "2022-07-02T02:41:12.052873",
     "exception": false,
     "start_time": "2022-07-02T02:41:12.028267",
     "status": "completed"
    },
    "tags": []
   },
   "outputs": [
    {
     "data": {
      "application/javascript": [
       "parent.postMessage({\"jupyterEvent\": \"custom.exercise_interaction\", \"data\": {\"outcomeType\": 1, \"valueTowardsCompletion\": 0.5, \"interactionType\": 1, \"questionType\": 1, \"questionId\": \"3.1_CardinalityA\", \"learnToolsVersion\": \"0.3.4\", \"failureMessage\": \"\", \"exceptionClass\": \"\", \"trace\": \"\"}}, \"*\")"
      ],
      "text/plain": [
       "<IPython.core.display.Javascript object>"
      ]
     },
     "metadata": {},
     "output_type": "display_data"
    },
    {
     "data": {
      "text/markdown": [
       "<span style=\"color:#33cc33\">Correct</span>"
      ],
      "text/plain": [
       "Correct"
      ]
     },
     "metadata": {},
     "output_type": "display_data"
    }
   ],
   "source": [
    "# Fill in the line below: How many categorical variables in the training data\n",
    "# have cardinality greater than 10?\n",
    "high_cardinality_numcols = 3\n",
    "\n",
    "# Fill in the line below: How many columns are needed to one-hot encode the \n",
    "# 'Neighborhood' variable in the training data?\n",
    "num_cols_neighborhood = 25\n",
    "\n",
    "# Check your answers\n",
    "step_3.a.check()"
   ]
  },
  {
   "cell_type": "code",
   "execution_count": 17,
   "id": "2a85d4d8",
   "metadata": {
    "execution": {
     "iopub.execute_input": "2022-07-02T02:41:12.083038Z",
     "iopub.status.busy": "2022-07-02T02:41:12.082445Z",
     "iopub.status.idle": "2022-07-02T02:41:12.086229Z",
     "shell.execute_reply": "2022-07-02T02:41:12.085375Z"
    },
    "papermill": {
     "duration": 0.022087,
     "end_time": "2022-07-02T02:41:12.088401",
     "exception": false,
     "start_time": "2022-07-02T02:41:12.066314",
     "status": "completed"
    },
    "tags": []
   },
   "outputs": [],
   "source": [
    "# Lines below will give you a hint or solution code\n",
    "#step_3.a.hint()\n",
    "#step_3.a.solution()"
   ]
  },
  {
   "cell_type": "markdown",
   "id": "b4e13ae3",
   "metadata": {
    "papermill": {
     "duration": 0.013113,
     "end_time": "2022-07-02T02:41:12.114698",
     "exception": false,
     "start_time": "2022-07-02T02:41:12.101585",
     "status": "completed"
    },
    "tags": []
   },
   "source": [
    "### Part B\n",
    "\n",
    "For large datasets with many rows, one-hot encoding can greatly expand the size of the dataset.  For this reason, we typically will only one-hot encode columns with relatively low cardinality.  Then, high cardinality columns can either be dropped from the dataset, or we can use ordinal encoding.\n",
    "\n",
    "As an example, consider a dataset with 10,000 rows, and containing one categorical column with 100 unique entries.  \n",
    "- If this column is replaced with the corresponding one-hot encoding, how many entries are added to the dataset?  \n",
    "- If we instead replace the column with the ordinal encoding, how many entries are added?  \n",
    "\n",
    "Use your answers to fill in the lines below."
   ]
  },
  {
   "cell_type": "code",
   "execution_count": 18,
   "id": "ce0f7bf0",
   "metadata": {
    "execution": {
     "iopub.execute_input": "2022-07-02T02:41:12.143349Z",
     "iopub.status.busy": "2022-07-02T02:41:12.142654Z",
     "iopub.status.idle": "2022-07-02T02:41:12.151047Z",
     "shell.execute_reply": "2022-07-02T02:41:12.150122Z"
    },
    "papermill": {
     "duration": 0.025172,
     "end_time": "2022-07-02T02:41:12.153211",
     "exception": false,
     "start_time": "2022-07-02T02:41:12.128039",
     "status": "completed"
    },
    "tags": []
   },
   "outputs": [
    {
     "data": {
      "application/javascript": [
       "parent.postMessage({\"jupyterEvent\": \"custom.exercise_interaction\", \"data\": {\"outcomeType\": 1, \"valueTowardsCompletion\": 0.5, \"interactionType\": 1, \"questionType\": 1, \"questionId\": \"3.2_CardinalityB\", \"learnToolsVersion\": \"0.3.4\", \"failureMessage\": \"\", \"exceptionClass\": \"\", \"trace\": \"\"}}, \"*\")"
      ],
      "text/plain": [
       "<IPython.core.display.Javascript object>"
      ]
     },
     "metadata": {},
     "output_type": "display_data"
    },
    {
     "data": {
      "text/markdown": [
       "<span style=\"color:#33cc33\">Correct</span>"
      ],
      "text/plain": [
       "Correct"
      ]
     },
     "metadata": {},
     "output_type": "display_data"
    }
   ],
   "source": [
    "# Fill in the line below: How many entries are added to the dataset by \n",
    "# replacing the column with a one-hot encoding?\n",
    "OH_entries_added = 990000\n",
    "\n",
    "# Fill in the line below: How many entries are added to the dataset by\n",
    "# replacing the column with an ordinal encoding?\n",
    "label_entries_added = 0\n",
    "\n",
    "# Check your answers\n",
    "step_3.b.check()"
   ]
  },
  {
   "cell_type": "code",
   "execution_count": 19,
   "id": "0e48576e",
   "metadata": {
    "execution": {
     "iopub.execute_input": "2022-07-02T02:41:12.183851Z",
     "iopub.status.busy": "2022-07-02T02:41:12.181437Z",
     "iopub.status.idle": "2022-07-02T02:41:12.187313Z",
     "shell.execute_reply": "2022-07-02T02:41:12.186431Z"
    },
    "papermill": {
     "duration": 0.022762,
     "end_time": "2022-07-02T02:41:12.189525",
     "exception": false,
     "start_time": "2022-07-02T02:41:12.166763",
     "status": "completed"
    },
    "tags": []
   },
   "outputs": [],
   "source": [
    "# Lines below will give you a hint or solution code\n",
    "#step_3.b.hint()\n",
    "#step_3.b.solution()"
   ]
  },
  {
   "cell_type": "markdown",
   "id": "6d91c502",
   "metadata": {
    "papermill": {
     "duration": 0.012875,
     "end_time": "2022-07-02T02:41:12.215731",
     "exception": false,
     "start_time": "2022-07-02T02:41:12.202856",
     "status": "completed"
    },
    "tags": []
   },
   "source": [
    "Next, you'll experiment with one-hot encoding.  But, instead of encoding all of the categorical variables in the dataset, you'll only create a one-hot encoding for columns with cardinality less than 10.\n",
    "\n",
    "Run the code cell below without changes to set `low_cardinality_cols` to a Python list containing the columns that will be one-hot encoded.  Likewise, `high_cardinality_cols` contains a list of categorical columns that will be dropped from the dataset."
   ]
  },
  {
   "cell_type": "code",
   "execution_count": 20,
   "id": "dfa8ff01",
   "metadata": {
    "execution": {
     "iopub.execute_input": "2022-07-02T02:41:12.244256Z",
     "iopub.status.busy": "2022-07-02T02:41:12.243350Z",
     "iopub.status.idle": "2022-07-02T02:41:12.255966Z",
     "shell.execute_reply": "2022-07-02T02:41:12.254761Z"
    },
    "papermill": {
     "duration": 0.029648,
     "end_time": "2022-07-02T02:41:12.258578",
     "exception": false,
     "start_time": "2022-07-02T02:41:12.228930",
     "status": "completed"
    },
    "tags": []
   },
   "outputs": [
    {
     "name": "stdout",
     "output_type": "stream",
     "text": [
      "Categorical columns that will be one-hot encoded: ['MSZoning', 'Street', 'LotShape', 'LandContour', 'Utilities', 'LotConfig', 'LandSlope', 'Condition1', 'Condition2', 'BldgType', 'HouseStyle', 'RoofStyle', 'RoofMatl', 'ExterQual', 'ExterCond', 'Foundation', 'Heating', 'HeatingQC', 'CentralAir', 'KitchenQual', 'Functional', 'PavedDrive', 'SaleType', 'SaleCondition']\n",
      "\n",
      "Categorical columns that will be dropped from the dataset: ['Exterior2nd', 'Neighborhood', 'Exterior1st']\n"
     ]
    }
   ],
   "source": [
    "# Columns that will be one-hot encoded\n",
    "low_cardinality_cols = [col for col in object_cols if X_train[col].nunique() < 10]\n",
    "\n",
    "# Columns that will be dropped from the dataset\n",
    "high_cardinality_cols = list(set(object_cols)-set(low_cardinality_cols))\n",
    "\n",
    "print('Categorical columns that will be one-hot encoded:', low_cardinality_cols)\n",
    "print('\\nCategorical columns that will be dropped from the dataset:', high_cardinality_cols)"
   ]
  },
  {
   "cell_type": "markdown",
   "id": "440dbf06",
   "metadata": {
    "papermill": {
     "duration": 0.012969,
     "end_time": "2022-07-02T02:41:12.284974",
     "exception": false,
     "start_time": "2022-07-02T02:41:12.272005",
     "status": "completed"
    },
    "tags": []
   },
   "source": [
    "# Step 4: One-hot encoding\n",
    "\n",
    "Use the next code cell to one-hot encode the data in `X_train` and `X_valid`.  Set the preprocessed DataFrames to `OH_X_train` and `OH_X_valid`, respectively.  \n",
    "- The full list of categorical columns in the dataset can be found in the Python list `object_cols`.\n",
    "- You should only one-hot encode the categorical columns in `low_cardinality_cols`.  All other categorical columns should be dropped from the dataset. "
   ]
  },
  {
   "cell_type": "code",
   "execution_count": 21,
   "id": "be5fdb06",
   "metadata": {
    "execution": {
     "iopub.execute_input": "2022-07-02T02:41:12.313827Z",
     "iopub.status.busy": "2022-07-02T02:41:12.313113Z",
     "iopub.status.idle": "2022-07-02T02:41:12.357385Z",
     "shell.execute_reply": "2022-07-02T02:41:12.356210Z"
    },
    "papermill": {
     "duration": 0.061564,
     "end_time": "2022-07-02T02:41:12.359884",
     "exception": false,
     "start_time": "2022-07-02T02:41:12.298320",
     "status": "completed"
    },
    "tags": []
   },
   "outputs": [
    {
     "data": {
      "application/javascript": [
       "parent.postMessage({\"jupyterEvent\": \"custom.exercise_interaction\", \"data\": {\"outcomeType\": 1, \"valueTowardsCompletion\": 0.5, \"interactionType\": 1, \"questionType\": 2, \"questionId\": \"4_OneHot\", \"learnToolsVersion\": \"0.3.4\", \"failureMessage\": \"\", \"exceptionClass\": \"\", \"trace\": \"\"}}, \"*\")"
      ],
      "text/plain": [
       "<IPython.core.display.Javascript object>"
      ]
     },
     "metadata": {},
     "output_type": "display_data"
    },
    {
     "data": {
      "text/markdown": [
       "<span style=\"color:#33cc33\">Correct</span>"
      ],
      "text/plain": [
       "Correct"
      ]
     },
     "metadata": {},
     "output_type": "display_data"
    }
   ],
   "source": [
    "from sklearn.preprocessing import OneHotEncoder\n",
    "\n",
    "# Use as many lines of code as you need!\n",
    "\n",
    "\n",
    "\n",
    "OH_encoder = OneHotEncoder(handle_unknown='ignore', sparse=False)\n",
    "OH_cols_train = pd.DataFrame(OH_encoder.fit_transform(X_train[low_cardinality_cols]))\n",
    "OH_cols_valid = pd.DataFrame(OH_encoder.transform(X_valid[low_cardinality_cols]))\n",
    "\n",
    "OH_cols_train.index = X_train.index\n",
    "OH_cols_valid.index = X_valid.index\n",
    "\n",
    "num_X_train = X_train.drop(object_cols, axis=1)\n",
    "num_X_valid = X_valid.drop(object_cols, axis=1)\n",
    "OH_X_train = pd.concat([num_X_train, OH_cols_train], axis=1)\n",
    "OH_X_valid = pd.concat([num_X_valid, OH_cols_valid], axis=1)\n",
    "# Check your answer\n",
    "step_4.check()"
   ]
  },
  {
   "cell_type": "code",
   "execution_count": 22,
   "id": "29a8c87f",
   "metadata": {
    "execution": {
     "iopub.execute_input": "2022-07-02T02:41:12.388957Z",
     "iopub.status.busy": "2022-07-02T02:41:12.388521Z",
     "iopub.status.idle": "2022-07-02T02:41:12.392815Z",
     "shell.execute_reply": "2022-07-02T02:41:12.391919Z"
    },
    "papermill": {
     "duration": 0.021178,
     "end_time": "2022-07-02T02:41:12.394905",
     "exception": false,
     "start_time": "2022-07-02T02:41:12.373727",
     "status": "completed"
    },
    "tags": []
   },
   "outputs": [],
   "source": [
    "# Lines below will give you a hint or solution code\n",
    "#step_4.hint()\n",
    "#step_4.solution()"
   ]
  },
  {
   "cell_type": "markdown",
   "id": "4f8c4aba",
   "metadata": {
    "papermill": {
     "duration": 0.012976,
     "end_time": "2022-07-02T02:41:12.421255",
     "exception": false,
     "start_time": "2022-07-02T02:41:12.408279",
     "status": "completed"
    },
    "tags": []
   },
   "source": [
    "Run the next code cell to get the MAE for this approach."
   ]
  },
  {
   "cell_type": "code",
   "execution_count": 23,
   "id": "32cafcbb",
   "metadata": {
    "execution": {
     "iopub.execute_input": "2022-07-02T02:41:12.450417Z",
     "iopub.status.busy": "2022-07-02T02:41:12.449717Z",
     "iopub.status.idle": "2022-07-02T02:41:14.135842Z",
     "shell.execute_reply": "2022-07-02T02:41:14.134546Z"
    },
    "papermill": {
     "duration": 1.704206,
     "end_time": "2022-07-02T02:41:14.138958",
     "exception": false,
     "start_time": "2022-07-02T02:41:12.434752",
     "status": "completed"
    },
    "tags": []
   },
   "outputs": [
    {
     "name": "stdout",
     "output_type": "stream",
     "text": [
      "MAE from Approach 3 (One-Hot Encoding):\n"
     ]
    },
    {
     "name": "stderr",
     "output_type": "stream",
     "text": [
      "/opt/conda/lib/python3.7/site-packages/sklearn/utils/validation.py:1692: FutureWarning: Feature names only support names that are all strings. Got feature names with dtypes: ['int', 'str']. An error will be raised in 1.2.\n",
      "  FutureWarning,\n"
     ]
    },
    {
     "name": "stdout",
     "output_type": "stream",
     "text": [
      "17525.345719178084\n"
     ]
    },
    {
     "name": "stderr",
     "output_type": "stream",
     "text": [
      "/opt/conda/lib/python3.7/site-packages/sklearn/utils/validation.py:1692: FutureWarning: Feature names only support names that are all strings. Got feature names with dtypes: ['int', 'str']. An error will be raised in 1.2.\n",
      "  FutureWarning,\n"
     ]
    }
   ],
   "source": [
    "print(\"MAE from Approach 3 (One-Hot Encoding):\") \n",
    "print(score_dataset(OH_X_train, OH_X_valid, y_train, y_valid))"
   ]
  },
  {
   "cell_type": "markdown",
   "id": "e179d22d",
   "metadata": {
    "papermill": {
     "duration": 0.013761,
     "end_time": "2022-07-02T02:41:14.166917",
     "exception": false,
     "start_time": "2022-07-02T02:41:14.153156",
     "status": "completed"
    },
    "tags": []
   },
   "source": [
    "# Generate test predictions and submit your results\n",
    "\n",
    "After you complete Step 4, if you'd like to use what you've learned to submit your results to the leaderboard, you'll need to preprocess the test data before generating predictions.\n",
    "\n",
    "**This step is completely optional, and you do not need to submit results to the leaderboard to successfully complete the exercise.**\n",
    "\n",
    "Check out the previous exercise if you need help with remembering how to [join the competition](https://www.kaggle.com/c/home-data-for-ml-course) or save your results to CSV.  Once you have generated a file with your results, follow the instructions below:\n",
    "1. Begin by clicking on the **Save Version** button in the top right corner of the window.  This will generate a pop-up window.  \n",
    "2. Ensure that the **Save and Run All** option is selected, and then click on the **Save** button.\n",
    "3. This generates a window in the bottom left corner of the notebook.  After it has finished running, click on the number to the right of the **Save Version** button.  This pulls up a list of versions on the right of the screen.  Click on the ellipsis **(...)** to the right of the most recent version, and select **Open in Viewer**.  This brings you into view mode of the same page. You will need to scroll down to get back to these instructions.\n",
    "4. Click on the **Output** tab on the right of the screen.  Then, click on the file you would like to submit, and click on the **Submit** button to submit your results to the leaderboard.\n",
    "\n",
    "You have now successfully submitted to the competition!\n",
    "\n",
    "If you want to keep working to improve your performance, select the **Edit** button in the top right of the screen. Then you can change your code and repeat the process. There's a lot of room to improve, and you will climb up the leaderboard as you work.\n"
   ]
  },
  {
   "cell_type": "code",
   "execution_count": 24,
   "id": "b73fe5eb",
   "metadata": {
    "execution": {
     "iopub.execute_input": "2022-07-02T02:41:14.198082Z",
     "iopub.status.busy": "2022-07-02T02:41:14.197231Z",
     "iopub.status.idle": "2022-07-02T02:41:14.202521Z",
     "shell.execute_reply": "2022-07-02T02:41:14.201351Z"
    },
    "papermill": {
     "duration": 0.024022,
     "end_time": "2022-07-02T02:41:14.204909",
     "exception": false,
     "start_time": "2022-07-02T02:41:14.180887",
     "status": "completed"
    },
    "tags": []
   },
   "outputs": [],
   "source": [
    "# (Optional) Your code here"
   ]
  },
  {
   "cell_type": "markdown",
   "id": "4d932ddd",
   "metadata": {
    "papermill": {
     "duration": 0.013944,
     "end_time": "2022-07-02T02:41:14.232668",
     "exception": false,
     "start_time": "2022-07-02T02:41:14.218724",
     "status": "completed"
    },
    "tags": []
   },
   "source": [
    "# Keep going\n",
    "\n",
    "With missing value handling and categorical encoding, your modeling process is getting complex. This complexity gets worse when you want to save your model to use in the future. The key to managing this complexity is something called **pipelines**. \n",
    "\n",
    "**[Learn to use pipelines](https://www.kaggle.com/alexisbcook/pipelines)** to preprocess datasets with categorical variables, missing values and any other messiness your data throws at you."
   ]
  },
  {
   "cell_type": "markdown",
   "id": "216fd34d",
   "metadata": {
    "papermill": {
     "duration": 0.013571,
     "end_time": "2022-07-02T02:41:14.260225",
     "exception": false,
     "start_time": "2022-07-02T02:41:14.246654",
     "status": "completed"
    },
    "tags": []
   },
   "source": [
    "---\n",
    "\n",
    "\n",
    "\n",
    "\n",
    "*Have questions or comments? Visit the [course discussion forum](https://www.kaggle.com/learn/intermediate-machine-learning/discussion) to chat with other learners.*"
   ]
  }
 ],
 "metadata": {
  "kernelspec": {
   "display_name": "Python 3",
   "language": "python",
   "name": "python3"
  },
  "language_info": {
   "codemirror_mode": {
    "name": "ipython",
    "version": 3
   },
   "file_extension": ".py",
   "mimetype": "text/x-python",
   "name": "python",
   "nbconvert_exporter": "python",
   "pygments_lexer": "ipython3",
   "version": "3.7.12"
  },
  "papermill": {
   "default_parameters": {},
   "duration": 17.77826,
   "end_time": "2022-07-02T02:41:14.996998",
   "environment_variables": {},
   "exception": null,
   "input_path": "__notebook__.ipynb",
   "output_path": "__notebook__.ipynb",
   "parameters": {},
   "start_time": "2022-07-02T02:40:57.218738",
   "version": "2.3.4"
  }
 },
 "nbformat": 4,
 "nbformat_minor": 5
}
