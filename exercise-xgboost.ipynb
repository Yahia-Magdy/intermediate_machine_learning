{
 "cells": [
  {
   "cell_type": "markdown",
   "id": "fd30e1ef",
   "metadata": {
    "papermill": {
     "duration": 0.005505,
     "end_time": "2022-07-02T02:41:44.744088",
     "exception": false,
     "start_time": "2022-07-02T02:41:44.738583",
     "status": "completed"
    },
    "tags": []
   },
   "source": [
    "**This notebook is an exercise in the [Intermediate Machine Learning](https://www.kaggle.com/learn/intermediate-machine-learning) course.  You can reference the tutorial at [this link](https://www.kaggle.com/alexisbcook/xgboost).**\n",
    "\n",
    "---\n"
   ]
  },
  {
   "cell_type": "markdown",
   "id": "17419787",
   "metadata": {
    "papermill": {
     "duration": 0.004053,
     "end_time": "2022-07-02T02:41:44.752671",
     "exception": false,
     "start_time": "2022-07-02T02:41:44.748618",
     "status": "completed"
    },
    "tags": []
   },
   "source": [
    "In this exercise, you will use your new knowledge to train a model with **gradient boosting**.\n",
    "\n",
    "# Setup\n",
    "\n",
    "The questions below will give you feedback on your work. Run the following cell to set up the feedback system."
   ]
  },
  {
   "cell_type": "code",
   "execution_count": 1,
   "id": "3225beaf",
   "metadata": {
    "execution": {
     "iopub.execute_input": "2022-07-02T02:41:44.763846Z",
     "iopub.status.busy": "2022-07-02T02:41:44.763262Z",
     "iopub.status.idle": "2022-07-02T02:41:48.191620Z",
     "shell.execute_reply": "2022-07-02T02:41:48.190744Z"
    },
    "papermill": {
     "duration": 3.438078,
     "end_time": "2022-07-02T02:41:48.195325",
     "exception": false,
     "start_time": "2022-07-02T02:41:44.757247",
     "status": "completed"
    },
    "tags": []
   },
   "outputs": [
    {
     "name": "stdout",
     "output_type": "stream",
     "text": [
      "Setup Complete\n"
     ]
    }
   ],
   "source": [
    "# Set up code checking\n",
    "import os\n",
    "if not os.path.exists(\"../input/train.csv\"):\n",
    "    os.symlink(\"../input/home-data-for-ml-course/train.csv\", \"../input/train.csv\")  \n",
    "    os.symlink(\"../input/home-data-for-ml-course/test.csv\", \"../input/test.csv\") \n",
    "from learntools.core import binder\n",
    "binder.bind(globals())\n",
    "from learntools.ml_intermediate.ex6 import *\n",
    "print(\"Setup Complete\")"
   ]
  },
  {
   "cell_type": "markdown",
   "id": "2c2149d9",
   "metadata": {
    "papermill": {
     "duration": 0.004457,
     "end_time": "2022-07-02T02:41:48.205836",
     "exception": false,
     "start_time": "2022-07-02T02:41:48.201379",
     "status": "completed"
    },
    "tags": []
   },
   "source": [
    "You will work with the [Housing Prices Competition for Kaggle Learn Users](https://www.kaggle.com/c/home-data-for-ml-course) dataset from the previous exercise. \n",
    "\n",
    "![Ames Housing dataset image](https://i.imgur.com/lTJVG4e.png)\n",
    "\n",
    "Run the next code cell without changes to load the training and validation sets in `X_train`, `X_valid`, `y_train`, and `y_valid`.  The test set is loaded in `X_test`."
   ]
  },
  {
   "cell_type": "code",
   "execution_count": 2,
   "id": "73896d73",
   "metadata": {
    "execution": {
     "iopub.execute_input": "2022-07-02T02:41:48.217103Z",
     "iopub.status.busy": "2022-07-02T02:41:48.216395Z",
     "iopub.status.idle": "2022-07-02T02:41:48.386682Z",
     "shell.execute_reply": "2022-07-02T02:41:48.385861Z"
    },
    "papermill": {
     "duration": 0.179102,
     "end_time": "2022-07-02T02:41:48.389190",
     "exception": false,
     "start_time": "2022-07-02T02:41:48.210088",
     "status": "completed"
    },
    "tags": []
   },
   "outputs": [],
   "source": [
    "import pandas as pd\n",
    "from sklearn.model_selection import train_test_split\n",
    "\n",
    "# Read the data\n",
    "X = pd.read_csv('../input/train.csv', index_col='Id')\n",
    "X_test_full = pd.read_csv('../input/test.csv', index_col='Id')\n",
    "\n",
    "# Remove rows with missing target, separate target from predictors\n",
    "X.dropna(axis=0, subset=['SalePrice'], inplace=True)\n",
    "y = X.SalePrice              \n",
    "X.drop(['SalePrice'], axis=1, inplace=True)\n",
    "\n",
    "# Break off validation set from training data\n",
    "X_train_full, X_valid_full, y_train, y_valid = train_test_split(X, y, train_size=0.8, test_size=0.2,\n",
    "                                                                random_state=0)\n",
    "\n",
    "# \"Cardinality\" means the number of unique values in a column\n",
    "# Select categorical columns with relatively low cardinality (convenient but arbitrary)\n",
    "low_cardinality_cols = [cname for cname in X_train_full.columns if X_train_full[cname].nunique() < 10 and \n",
    "                        X_train_full[cname].dtype == \"object\"]\n",
    "\n",
    "# Select numeric columns\n",
    "numeric_cols = [cname for cname in X_train_full.columns if X_train_full[cname].dtype in ['int64', 'float64']]\n",
    "\n",
    "# Keep selected columns only\n",
    "my_cols = low_cardinality_cols + numeric_cols\n",
    "X_train = X_train_full[my_cols].copy()\n",
    "X_valid = X_valid_full[my_cols].copy()\n",
    "X_test = X_test_full[my_cols].copy()\n",
    "\n",
    "# One-hot encode the data (to shorten the code, we use pandas)\n",
    "X_train = pd.get_dummies(X_train)\n",
    "X_valid = pd.get_dummies(X_valid)\n",
    "X_test = pd.get_dummies(X_test)\n",
    "X_train, X_valid = X_train.align(X_valid, join='left', axis=1)\n",
    "X_train, X_test = X_train.align(X_test, join='left', axis=1)"
   ]
  },
  {
   "cell_type": "markdown",
   "id": "ec8ac26e",
   "metadata": {
    "papermill": {
     "duration": 0.004085,
     "end_time": "2022-07-02T02:41:48.397679",
     "exception": false,
     "start_time": "2022-07-02T02:41:48.393594",
     "status": "completed"
    },
    "tags": []
   },
   "source": [
    "# Step 1: Build model\n",
    "\n",
    "### Part A\n",
    "\n",
    "In this step, you'll build and train your first model with gradient boosting.\n",
    "\n",
    "- Begin by setting `my_model_1` to an XGBoost model.  Use the [XGBRegressor](https://xgboost.readthedocs.io/en/latest/python/python_api.html#xgboost.XGBRegressor) class, and set the random seed to 0 (`random_state=0`).  **Leave all other parameters as default.**\n",
    "- Then, fit the model to the training data in `X_train` and `y_train`."
   ]
  },
  {
   "cell_type": "code",
   "execution_count": 3,
   "id": "640bc830",
   "metadata": {
    "execution": {
     "iopub.execute_input": "2022-07-02T02:41:48.408458Z",
     "iopub.status.busy": "2022-07-02T02:41:48.407521Z",
     "iopub.status.idle": "2022-07-02T02:41:49.331464Z",
     "shell.execute_reply": "2022-07-02T02:41:49.330236Z"
    },
    "papermill": {
     "duration": 0.931928,
     "end_time": "2022-07-02T02:41:49.333870",
     "exception": false,
     "start_time": "2022-07-02T02:41:48.401942",
     "status": "completed"
    },
    "tags": []
   },
   "outputs": [
    {
     "data": {
      "application/javascript": [
       "parent.postMessage({\"jupyterEvent\": \"custom.exercise_interaction\", \"data\": {\"outcomeType\": 1, \"valueTowardsCompletion\": 0.5, \"interactionType\": 1, \"questionType\": 2, \"questionId\": \"1.1_Model1A\", \"learnToolsVersion\": \"0.3.4\", \"failureMessage\": \"\", \"exceptionClass\": \"\", \"trace\": \"\"}}, \"*\")"
      ],
      "text/plain": [
       "<IPython.core.display.Javascript object>"
      ]
     },
     "metadata": {},
     "output_type": "display_data"
    },
    {
     "data": {
      "text/markdown": [
       "<span style=\"color:#33cc33\">Correct</span>"
      ],
      "text/plain": [
       "Correct"
      ]
     },
     "metadata": {},
     "output_type": "display_data"
    }
   ],
   "source": [
    "from xgboost import XGBRegressor\n",
    "\n",
    "# Define the model\n",
    "my_model_1 = XGBRegressor()\n",
    "\n",
    "# Fit the model\n",
    "____ # Your code here\n",
    "my_model_1.fit(X_train, y_train)\n",
    "\n",
    "# Check your answer\n",
    "step_1.a.check()"
   ]
  },
  {
   "cell_type": "code",
   "execution_count": 4,
   "id": "95ca438e",
   "metadata": {
    "execution": {
     "iopub.execute_input": "2022-07-02T02:41:49.344591Z",
     "iopub.status.busy": "2022-07-02T02:41:49.344217Z",
     "iopub.status.idle": "2022-07-02T02:41:49.348535Z",
     "shell.execute_reply": "2022-07-02T02:41:49.347472Z"
    },
    "papermill": {
     "duration": 0.012388,
     "end_time": "2022-07-02T02:41:49.350850",
     "exception": false,
     "start_time": "2022-07-02T02:41:49.338462",
     "status": "completed"
    },
    "tags": []
   },
   "outputs": [],
   "source": [
    "# Lines below will give you a hint or solution code\n",
    "#step_1.a.hint()\n",
    "#step_1.a.solution()"
   ]
  },
  {
   "cell_type": "markdown",
   "id": "51a55a89",
   "metadata": {
    "papermill": {
     "duration": 0.004334,
     "end_time": "2022-07-02T02:41:49.359689",
     "exception": false,
     "start_time": "2022-07-02T02:41:49.355355",
     "status": "completed"
    },
    "tags": []
   },
   "source": [
    "### Part B\n",
    "\n",
    "Set `predictions_1` to the model's predictions for the validation data.  Recall that the validation features are stored in `X_valid`."
   ]
  },
  {
   "cell_type": "code",
   "execution_count": 5,
   "id": "a3a42c97",
   "metadata": {
    "execution": {
     "iopub.execute_input": "2022-07-02T02:41:49.370326Z",
     "iopub.status.busy": "2022-07-02T02:41:49.369936Z",
     "iopub.status.idle": "2022-07-02T02:41:49.389627Z",
     "shell.execute_reply": "2022-07-02T02:41:49.388656Z"
    },
    "papermill": {
     "duration": 0.028241,
     "end_time": "2022-07-02T02:41:49.392400",
     "exception": false,
     "start_time": "2022-07-02T02:41:49.364159",
     "status": "completed"
    },
    "tags": []
   },
   "outputs": [
    {
     "data": {
      "application/javascript": [
       "parent.postMessage({\"jupyterEvent\": \"custom.exercise_interaction\", \"data\": {\"outcomeType\": 1, \"valueTowardsCompletion\": 0.5, \"interactionType\": 1, \"questionType\": 2, \"questionId\": \"1.2_Model1B\", \"learnToolsVersion\": \"0.3.4\", \"failureMessage\": \"\", \"exceptionClass\": \"\", \"trace\": \"\"}}, \"*\")"
      ],
      "text/plain": [
       "<IPython.core.display.Javascript object>"
      ]
     },
     "metadata": {},
     "output_type": "display_data"
    },
    {
     "data": {
      "text/markdown": [
       "<span style=\"color:#33cc33\">Correct</span>"
      ],
      "text/plain": [
       "Correct"
      ]
     },
     "metadata": {},
     "output_type": "display_data"
    }
   ],
   "source": [
    "from sklearn.metrics import mean_absolute_error\n",
    "\n",
    "# Get predictions\n",
    "predictions_1 = my_model_1.predict(X_valid)\n",
    "\n",
    "# Check your answer\n",
    "step_1.b.check()"
   ]
  },
  {
   "cell_type": "code",
   "execution_count": 6,
   "id": "c4ecd90a",
   "metadata": {
    "execution": {
     "iopub.execute_input": "2022-07-02T02:41:49.403549Z",
     "iopub.status.busy": "2022-07-02T02:41:49.403188Z",
     "iopub.status.idle": "2022-07-02T02:41:49.406470Z",
     "shell.execute_reply": "2022-07-02T02:41:49.405768Z"
    },
    "papermill": {
     "duration": 0.011146,
     "end_time": "2022-07-02T02:41:49.408274",
     "exception": false,
     "start_time": "2022-07-02T02:41:49.397128",
     "status": "completed"
    },
    "tags": []
   },
   "outputs": [],
   "source": [
    "# Lines below will give you a hint or solution code\n",
    "#step_1.b.hint()\n",
    "#step_1.b.solution()"
   ]
  },
  {
   "cell_type": "markdown",
   "id": "41b889f4",
   "metadata": {
    "papermill": {
     "duration": 0.00434,
     "end_time": "2022-07-02T02:41:49.417299",
     "exception": false,
     "start_time": "2022-07-02T02:41:49.412959",
     "status": "completed"
    },
    "tags": []
   },
   "source": [
    "### Part C\n",
    "\n",
    "Finally, use the `mean_absolute_error()` function to calculate the mean absolute error (MAE) corresponding to the predictions for the validation set.  Recall that the labels for the validation data are stored in `y_valid`."
   ]
  },
  {
   "cell_type": "code",
   "execution_count": 7,
   "id": "038dde70",
   "metadata": {
    "execution": {
     "iopub.execute_input": "2022-07-02T02:41:49.428255Z",
     "iopub.status.busy": "2022-07-02T02:41:49.427616Z",
     "iopub.status.idle": "2022-07-02T02:41:49.437431Z",
     "shell.execute_reply": "2022-07-02T02:41:49.436027Z"
    },
    "papermill": {
     "duration": 0.017634,
     "end_time": "2022-07-02T02:41:49.439543",
     "exception": false,
     "start_time": "2022-07-02T02:41:49.421909",
     "status": "completed"
    },
    "tags": []
   },
   "outputs": [
    {
     "name": "stdout",
     "output_type": "stream",
     "text": [
      "Mean Absolute Error: 17662.736729452055\n"
     ]
    },
    {
     "data": {
      "application/javascript": [
       "parent.postMessage({\"jupyterEvent\": \"custom.exercise_interaction\", \"data\": {\"outcomeType\": 1, \"valueTowardsCompletion\": 0.5, \"interactionType\": 1, \"questionType\": 2, \"questionId\": \"1.3_Model1C\", \"learnToolsVersion\": \"0.3.4\", \"failureMessage\": \"\", \"exceptionClass\": \"\", \"trace\": \"\"}}, \"*\")"
      ],
      "text/plain": [
       "<IPython.core.display.Javascript object>"
      ]
     },
     "metadata": {},
     "output_type": "display_data"
    },
    {
     "data": {
      "text/markdown": [
       "<span style=\"color:#33cc33\">Correct</span>"
      ],
      "text/plain": [
       "Correct"
      ]
     },
     "metadata": {},
     "output_type": "display_data"
    }
   ],
   "source": [
    "# Calculate MAE\n",
    "mae_1 = mean_absolute_error(predictions_1, y_valid)\n",
    "\n",
    "# Uncomment to print MAE\n",
    "print(\"Mean Absolute Error:\" , mae_1)\n",
    "\n",
    "# Check your answer\n",
    "step_1.c.check()"
   ]
  },
  {
   "cell_type": "code",
   "execution_count": 8,
   "id": "bef28e72",
   "metadata": {
    "execution": {
     "iopub.execute_input": "2022-07-02T02:41:49.451305Z",
     "iopub.status.busy": "2022-07-02T02:41:49.450963Z",
     "iopub.status.idle": "2022-07-02T02:41:49.455054Z",
     "shell.execute_reply": "2022-07-02T02:41:49.453814Z"
    },
    "papermill": {
     "duration": 0.012386,
     "end_time": "2022-07-02T02:41:49.456937",
     "exception": false,
     "start_time": "2022-07-02T02:41:49.444551",
     "status": "completed"
    },
    "tags": []
   },
   "outputs": [],
   "source": [
    "# Lines below will give you a hint or solution code\n",
    "#step_1.c.hint()\n",
    "#step_1.c.solution()"
   ]
  },
  {
   "cell_type": "markdown",
   "id": "985386d5",
   "metadata": {
    "papermill": {
     "duration": 0.004974,
     "end_time": "2022-07-02T02:41:49.466832",
     "exception": false,
     "start_time": "2022-07-02T02:41:49.461858",
     "status": "completed"
    },
    "tags": []
   },
   "source": [
    "# Step 2: Improve the model\n",
    "\n",
    "Now that you've trained a default model as baseline, it's time to tinker with the parameters, to see if you can get better performance!\n",
    "- Begin by setting `my_model_2` to an XGBoost model, using the [XGBRegressor](https://xgboost.readthedocs.io/en/latest/python/python_api.html#xgboost.XGBRegressor) class.  Use what you learned in the previous tutorial to figure out how to change the default parameters (like `n_estimators` and `learning_rate`) to get better results.\n",
    "- Then, fit the model to the training data in `X_train` and `y_train`.\n",
    "- Set `predictions_2` to the model's predictions for the validation data.  Recall that the validation features are stored in `X_valid`.\n",
    "- Finally, use the `mean_absolute_error()` function to calculate the mean absolute error (MAE) corresponding to the predictions on the validation set.  Recall that the labels for the validation data are stored in `y_valid`.\n",
    "\n",
    "In order for this step to be marked correct, your model in `my_model_2` must attain lower MAE than the model in `my_model_1`. "
   ]
  },
  {
   "cell_type": "code",
   "execution_count": 9,
   "id": "868128f4",
   "metadata": {
    "execution": {
     "iopub.execute_input": "2022-07-02T02:41:49.478223Z",
     "iopub.status.busy": "2022-07-02T02:41:49.477645Z",
     "iopub.status.idle": "2022-07-02T02:42:34.324195Z",
     "shell.execute_reply": "2022-07-02T02:42:34.323376Z"
    },
    "papermill": {
     "duration": 44.860018,
     "end_time": "2022-07-02T02:42:34.331649",
     "exception": false,
     "start_time": "2022-07-02T02:41:49.471631",
     "status": "completed"
    },
    "tags": []
   },
   "outputs": [
    {
     "name": "stdout",
     "output_type": "stream",
     "text": [
      "Mean Absolute Error: 16682.042139340752\n"
     ]
    },
    {
     "data": {
      "application/javascript": [
       "parent.postMessage({\"jupyterEvent\": \"custom.exercise_interaction\", \"data\": {\"outcomeType\": 1, \"valueTowardsCompletion\": 0.5, \"interactionType\": 1, \"questionType\": 2, \"questionId\": \"2_Model2\", \"learnToolsVersion\": \"0.3.4\", \"failureMessage\": \"\", \"exceptionClass\": \"\", \"trace\": \"\"}}, \"*\")"
      ],
      "text/plain": [
       "<IPython.core.display.Javascript object>"
      ]
     },
     "metadata": {},
     "output_type": "display_data"
    },
    {
     "data": {
      "text/markdown": [
       "<span style=\"color:#33cc33\">Correct</span>"
      ],
      "text/plain": [
       "Correct"
      ]
     },
     "metadata": {},
     "output_type": "display_data"
    }
   ],
   "source": [
    "# Define the model\n",
    "my_model_2 = XGBRegressor(n_estimators=5000, learning_rate=0.05)\n",
    "# Fit the model\n",
    "____ # Your code here\n",
    "my_model_2.fit(X_train, y_train)\n",
    "# Get predictions\n",
    "predictions_2 = my_model_2.predict(X_valid)\n",
    "\n",
    "# Calculate MAE\n",
    "mae_2 = mean_absolute_error(predictions_2, y_valid)\n",
    "# Uncomment to print MAE\n",
    "print(\"Mean Absolute Error:\" , mae_2)\n",
    "\n",
    "# Check your answer\n",
    "step_2.check()"
   ]
  },
  {
   "cell_type": "code",
   "execution_count": 10,
   "id": "097e1e4c",
   "metadata": {
    "execution": {
     "iopub.execute_input": "2022-07-02T02:42:34.343763Z",
     "iopub.status.busy": "2022-07-02T02:42:34.343352Z",
     "iopub.status.idle": "2022-07-02T02:42:34.346804Z",
     "shell.execute_reply": "2022-07-02T02:42:34.346053Z"
    },
    "papermill": {
     "duration": 0.011766,
     "end_time": "2022-07-02T02:42:34.348581",
     "exception": false,
     "start_time": "2022-07-02T02:42:34.336815",
     "status": "completed"
    },
    "tags": []
   },
   "outputs": [],
   "source": [
    "# Lines below will give you a hint or solution code\n",
    "#step_2.hint()\n",
    "#step_2.solution()"
   ]
  },
  {
   "cell_type": "markdown",
   "id": "0cf87d51",
   "metadata": {
    "papermill": {
     "duration": 0.004883,
     "end_time": "2022-07-02T02:42:34.358928",
     "exception": false,
     "start_time": "2022-07-02T02:42:34.354045",
     "status": "completed"
    },
    "tags": []
   },
   "source": [
    "# Step 3: Break the model\n",
    "\n",
    "In this step, you will create a model that performs worse than the original model in Step 1.  This will help you to develop your intuition for how to set parameters.  You might even find that you accidentally get better performance, which is ultimately a nice problem to have and a valuable learning experience!\n",
    "- Begin by setting `my_model_3` to an XGBoost model, using the [XGBRegressor](https://xgboost.readthedocs.io/en/latest/python/python_api.html#xgboost.XGBRegressor) class.  Use what you learned in the previous tutorial to figure out how to change the default parameters (like `n_estimators` and `learning_rate`) to design a model to get high MAE.\n",
    "- Then, fit the model to the training data in `X_train` and `y_train`.\n",
    "- Set `predictions_3` to the model's predictions for the validation data.  Recall that the validation features are stored in `X_valid`.\n",
    "- Finally, use the `mean_absolute_error()` function to calculate the mean absolute error (MAE) corresponding to the predictions on the validation set.  Recall that the labels for the validation data are stored in `y_valid`.\n",
    "\n",
    "In order for this step to be marked correct, your model in `my_model_3` must attain higher MAE than the model in `my_model_1`. "
   ]
  },
  {
   "cell_type": "code",
   "execution_count": 11,
   "id": "201b8b3b",
   "metadata": {
    "execution": {
     "iopub.execute_input": "2022-07-02T02:42:34.370972Z",
     "iopub.status.busy": "2022-07-02T02:42:34.370591Z",
     "iopub.status.idle": "2022-07-02T02:42:34.712077Z",
     "shell.execute_reply": "2022-07-02T02:42:34.711092Z"
    },
    "papermill": {
     "duration": 0.350009,
     "end_time": "2022-07-02T02:42:34.714048",
     "exception": false,
     "start_time": "2022-07-02T02:42:34.364039",
     "status": "completed"
    },
    "tags": []
   },
   "outputs": [
    {
     "name": "stdout",
     "output_type": "stream",
     "text": [
      "Mean Absolute Error: 1.7048651834123317e+35\n"
     ]
    },
    {
     "data": {
      "application/javascript": [
       "parent.postMessage({\"jupyterEvent\": \"custom.exercise_interaction\", \"data\": {\"outcomeType\": 1, \"valueTowardsCompletion\": 0.5, \"interactionType\": 1, \"questionType\": 2, \"questionId\": \"3_Model3\", \"learnToolsVersion\": \"0.3.4\", \"failureMessage\": \"\", \"exceptionClass\": \"\", \"trace\": \"\"}}, \"*\")"
      ],
      "text/plain": [
       "<IPython.core.display.Javascript object>"
      ]
     },
     "metadata": {},
     "output_type": "display_data"
    },
    {
     "data": {
      "text/markdown": [
       "<span style=\"color:#33cc33\">Correct</span>"
      ],
      "text/plain": [
       "Correct"
      ]
     },
     "metadata": {},
     "output_type": "display_data"
    }
   ],
   "source": [
    "# Define the model\n",
    "my_model_3 = XGBRegressor(n_estimators=50 ,learning_rate=5)\n",
    "\n",
    "# Fit the model\n",
    "____ # Your code here\n",
    "my_model_3.fit(X_train, y_train)\n",
    "\n",
    "# Get predictions\n",
    "predictions_3 = my_model_3.predict(X_valid)\n",
    "\n",
    "# Calculate MAE\n",
    "mae_3 =  mean_absolute_error(predictions_3, y_valid)\n",
    "\n",
    "# Uncomment to print MAE\n",
    "print(\"Mean Absolute Error:\" , mae_3)\n",
    "\n",
    "# Check your answer\n",
    "step_3.check()"
   ]
  },
  {
   "cell_type": "code",
   "execution_count": 12,
   "id": "7a525249",
   "metadata": {
    "execution": {
     "iopub.execute_input": "2022-07-02T02:42:34.726992Z",
     "iopub.status.busy": "2022-07-02T02:42:34.726308Z",
     "iopub.status.idle": "2022-07-02T02:42:34.730378Z",
     "shell.execute_reply": "2022-07-02T02:42:34.729333Z"
    },
    "papermill": {
     "duration": 0.012959,
     "end_time": "2022-07-02T02:42:34.732662",
     "exception": false,
     "start_time": "2022-07-02T02:42:34.719703",
     "status": "completed"
    },
    "tags": []
   },
   "outputs": [],
   "source": [
    "# Lines below will give you a hint or solution code\n",
    "#step_3.hint()\n",
    "#step_3.solution()"
   ]
  },
  {
   "cell_type": "markdown",
   "id": "443ab37c",
   "metadata": {
    "papermill": {
     "duration": 0.005256,
     "end_time": "2022-07-02T02:42:34.743429",
     "exception": false,
     "start_time": "2022-07-02T02:42:34.738173",
     "status": "completed"
    },
    "tags": []
   },
   "source": [
    "# Keep going\n",
    "\n",
    "Continue to learn about **[data leakage](https://www.kaggle.com/alexisbcook/data-leakage)**.  This is an important issue for a data scientist to understand, and it has the potential to ruin your models in subtle and dangerous ways!"
   ]
  },
  {
   "cell_type": "markdown",
   "id": "369c52df",
   "metadata": {
    "papermill": {
     "duration": 0.00515,
     "end_time": "2022-07-02T02:42:34.754051",
     "exception": false,
     "start_time": "2022-07-02T02:42:34.748901",
     "status": "completed"
    },
    "tags": []
   },
   "source": [
    "---\n",
    "\n",
    "\n",
    "\n",
    "\n",
    "*Have questions or comments? Visit the [course discussion forum](https://www.kaggle.com/learn/intermediate-machine-learning/discussion) to chat with other learners.*"
   ]
  }
 ],
 "metadata": {
  "kernelspec": {
   "display_name": "Python 3",
   "language": "python",
   "name": "python3"
  },
  "language_info": {
   "codemirror_mode": {
    "name": "ipython",
    "version": 3
   },
   "file_extension": ".py",
   "mimetype": "text/x-python",
   "name": "python",
   "nbconvert_exporter": "python",
   "pygments_lexer": "ipython3",
   "version": "3.7.12"
  },
  "papermill": {
   "default_parameters": {},
   "duration": 59.569989,
   "end_time": "2022-07-02T02:42:35.481380",
   "environment_variables": {},
   "exception": null,
   "input_path": "__notebook__.ipynb",
   "output_path": "__notebook__.ipynb",
   "parameters": {},
   "start_time": "2022-07-02T02:41:35.911391",
   "version": "2.3.4"
  }
 },
 "nbformat": 4,
 "nbformat_minor": 5
}
