{
 "cells": [
  {
   "cell_type": "markdown",
   "id": "8aa1016e",
   "metadata": {
    "papermill": {
     "duration": 0.004819,
     "end_time": "2022-07-02T02:50:42.479540",
     "exception": false,
     "start_time": "2022-07-02T02:50:42.474721",
     "status": "completed"
    },
    "tags": []
   },
   "source": [
    "**This notebook is an exercise in the [Introduction to Machine Learning](https://www.kaggle.com/learn/intro-to-machine-learning) course.  You can reference the tutorial at [this link](https://www.kaggle.com/dansbecker/underfitting-and-overfitting).**\n",
    "\n",
    "---\n"
   ]
  },
  {
   "cell_type": "markdown",
   "id": "68e3a186",
   "metadata": {
    "papermill": {
     "duration": 0.003513,
     "end_time": "2022-07-02T02:50:42.487158",
     "exception": false,
     "start_time": "2022-07-02T02:50:42.483645",
     "status": "completed"
    },
    "tags": []
   },
   "source": [
    "## Recap\n",
    "You've built your first model, and now it's time to optimize the size of the tree to make better predictions. Run this cell to set up your coding environment where the previous step left off."
   ]
  },
  {
   "cell_type": "code",
   "execution_count": 1,
   "id": "cde79c00",
   "metadata": {
    "execution": {
     "iopub.execute_input": "2022-07-02T02:50:42.496795Z",
     "iopub.status.busy": "2022-07-02T02:50:42.496380Z",
     "iopub.status.idle": "2022-07-02T02:50:43.961760Z",
     "shell.execute_reply": "2022-07-02T02:50:43.960378Z"
    },
    "papermill": {
     "duration": 1.473462,
     "end_time": "2022-07-02T02:50:43.964437",
     "exception": false,
     "start_time": "2022-07-02T02:50:42.490975",
     "status": "completed"
    },
    "tags": []
   },
   "outputs": [
    {
     "name": "stdout",
     "output_type": "stream",
     "text": [
      "Validation MAE: 29,653\n",
      "\n",
      "Setup complete\n"
     ]
    }
   ],
   "source": [
    "# Code you have previously used to load data\n",
    "import pandas as pd\n",
    "from sklearn.metrics import mean_absolute_error\n",
    "from sklearn.model_selection import train_test_split\n",
    "from sklearn.tree import DecisionTreeRegressor\n",
    "\n",
    "\n",
    "# Path of the file to read\n",
    "iowa_file_path = '../input/home-data-for-ml-course/train.csv'\n",
    "\n",
    "home_data = pd.read_csv(iowa_file_path)\n",
    "# Create target object and call it y\n",
    "y = home_data.SalePrice\n",
    "# Create X\n",
    "features = ['LotArea', 'YearBuilt', '1stFlrSF', '2ndFlrSF', 'FullBath', 'BedroomAbvGr', 'TotRmsAbvGrd']\n",
    "X = home_data[features]\n",
    "\n",
    "# Split into validation and training data\n",
    "train_X, val_X, train_y, val_y = train_test_split(X, y, random_state=1)\n",
    "\n",
    "# Specify Model\n",
    "iowa_model = DecisionTreeRegressor(random_state=1)\n",
    "# Fit Model\n",
    "iowa_model.fit(train_X, train_y)\n",
    "\n",
    "# Make validation predictions and calculate mean absolute error\n",
    "val_predictions = iowa_model.predict(val_X)\n",
    "val_mae = mean_absolute_error(val_predictions, val_y)\n",
    "print(\"Validation MAE: {:,.0f}\".format(val_mae))\n",
    "\n",
    "# Set up code checking\n",
    "from learntools.core import binder\n",
    "binder.bind(globals())\n",
    "from learntools.machine_learning.ex5 import *\n",
    "print(\"\\nSetup complete\")"
   ]
  },
  {
   "cell_type": "markdown",
   "id": "5b0bbbec",
   "metadata": {
    "papermill": {
     "duration": 0.003722,
     "end_time": "2022-07-02T02:50:43.972246",
     "exception": false,
     "start_time": "2022-07-02T02:50:43.968524",
     "status": "completed"
    },
    "tags": []
   },
   "source": [
    "# Exercises\n",
    "You could write the function `get_mae` yourself. For now, we'll supply it. This is the same function you read about in the previous lesson. Just run the cell below."
   ]
  },
  {
   "cell_type": "code",
   "execution_count": 2,
   "id": "944a10e6",
   "metadata": {
    "execution": {
     "iopub.execute_input": "2022-07-02T02:50:43.981494Z",
     "iopub.status.busy": "2022-07-02T02:50:43.981108Z",
     "iopub.status.idle": "2022-07-02T02:50:43.987459Z",
     "shell.execute_reply": "2022-07-02T02:50:43.986107Z"
    },
    "papermill": {
     "duration": 0.013731,
     "end_time": "2022-07-02T02:50:43.989749",
     "exception": false,
     "start_time": "2022-07-02T02:50:43.976018",
     "status": "completed"
    },
    "tags": []
   },
   "outputs": [],
   "source": [
    "def get_mae(max_leaf_nodes, train_X, val_X, train_y, val_y):\n",
    "    model = DecisionTreeRegressor(max_leaf_nodes=max_leaf_nodes, random_state=0)\n",
    "    model.fit(train_X, train_y)\n",
    "    preds_val = model.predict(val_X)\n",
    "    mae = mean_absolute_error(val_y, preds_val)\n",
    "    return(mae)"
   ]
  },
  {
   "cell_type": "markdown",
   "id": "2b95043c",
   "metadata": {
    "papermill": {
     "duration": 0.003796,
     "end_time": "2022-07-02T02:50:43.997517",
     "exception": false,
     "start_time": "2022-07-02T02:50:43.993721",
     "status": "completed"
    },
    "tags": []
   },
   "source": [
    "## Step 1: Compare Different Tree Sizes\n",
    "Write a loop that tries the following values for *max_leaf_nodes* from a set of possible values.\n",
    "\n",
    "Call the *get_mae* function on each value of max_leaf_nodes. Store the output in some way that allows you to select the value of `max_leaf_nodes` that gives the most accurate model on your data."
   ]
  },
  {
   "cell_type": "code",
   "execution_count": 3,
   "id": "16621b6c",
   "metadata": {
    "execution": {
     "iopub.execute_input": "2022-07-02T02:50:44.007617Z",
     "iopub.status.busy": "2022-07-02T02:50:44.007185Z",
     "iopub.status.idle": "2022-07-02T02:50:44.017703Z",
     "shell.execute_reply": "2022-07-02T02:50:44.016861Z"
    },
    "papermill": {
     "duration": 0.017693,
     "end_time": "2022-07-02T02:50:44.019537",
     "exception": false,
     "start_time": "2022-07-02T02:50:44.001844",
     "status": "completed"
    },
    "tags": []
   },
   "outputs": [
    {
     "data": {
      "application/javascript": [
       "parent.postMessage({\"jupyterEvent\": \"custom.exercise_interaction\", \"data\": {\"outcomeType\": 4, \"interactionType\": 1, \"questionType\": 1, \"questionId\": \"1_BestTreeSize\", \"learnToolsVersion\": \"0.3.4\", \"valueTowardsCompletion\": 0.0, \"failureMessage\": \"\", \"exceptionClass\": \"\", \"trace\": \"\"}}, \"*\")"
      ],
      "text/plain": [
       "<IPython.core.display.Javascript object>"
      ]
     },
     "metadata": {},
     "output_type": "display_data"
    },
    {
     "data": {
      "text/markdown": [
       "<span style=\"color:#ccaa33\">Check:</span> When you've updated the starter code, `check()` will tell you whether your code is correct. You need to update the code that creates variable `best_tree_size`"
      ],
      "text/plain": [
       "Check: When you've updated the starter code, `check()` will tell you whether your code is correct. You need to update the code that creates variable `best_tree_size`"
      ]
     },
     "metadata": {},
     "output_type": "display_data"
    }
   ],
   "source": [
    "candidate_max_leaf_nodes = [5, 25, 50, 100, 250, 500]\n",
    "# Write loop to find the ideal tree size from candidate_max_leaf_nodes\n",
    "\n",
    "\n",
    "# Store the best value of max_leaf_nodes (it will be either 5, 25, 50, 100, 250 or 500)\n",
    "best_tree_size = ____\n",
    "\n",
    "# Check your answer\n",
    "step_1.check()"
   ]
  },
  {
   "cell_type": "code",
   "execution_count": 4,
   "id": "6914d966",
   "metadata": {
    "execution": {
     "iopub.execute_input": "2022-07-02T02:50:44.029390Z",
     "iopub.status.busy": "2022-07-02T02:50:44.028770Z",
     "iopub.status.idle": "2022-07-02T02:50:44.032239Z",
     "shell.execute_reply": "2022-07-02T02:50:44.031517Z"
    },
    "papermill": {
     "duration": 0.010687,
     "end_time": "2022-07-02T02:50:44.034358",
     "exception": false,
     "start_time": "2022-07-02T02:50:44.023671",
     "status": "completed"
    },
    "tags": []
   },
   "outputs": [],
   "source": [
    "# The lines below will show you a hint or the solution.\n",
    "# step_1.hint() \n",
    "#step_1.solution()"
   ]
  },
  {
   "cell_type": "markdown",
   "id": "e5177c3a",
   "metadata": {
    "papermill": {
     "duration": 0.003874,
     "end_time": "2022-07-02T02:50:44.042309",
     "exception": false,
     "start_time": "2022-07-02T02:50:44.038435",
     "status": "completed"
    },
    "tags": []
   },
   "source": [
    "## Step 2: Fit Model Using All Data\n",
    "You know the best tree size. If you were going to deploy this model in practice, you would make it even more accurate by using all of the data and keeping that tree size.  That is, you don't need to hold out the validation data now that you've made all your modeling decisions."
   ]
  },
  {
   "cell_type": "code",
   "execution_count": 5,
   "id": "b88b6be5",
   "metadata": {
    "execution": {
     "iopub.execute_input": "2022-07-02T02:50:44.052251Z",
     "iopub.status.busy": "2022-07-02T02:50:44.051590Z",
     "iopub.status.idle": "2022-07-02T02:50:44.059081Z",
     "shell.execute_reply": "2022-07-02T02:50:44.058369Z"
    },
    "papermill": {
     "duration": 0.014738,
     "end_time": "2022-07-02T02:50:44.061028",
     "exception": false,
     "start_time": "2022-07-02T02:50:44.046290",
     "status": "completed"
    },
    "tags": []
   },
   "outputs": [
    {
     "data": {
      "application/javascript": [
       "parent.postMessage({\"jupyterEvent\": \"custom.exercise_interaction\", \"data\": {\"outcomeType\": 2, \"failureMessage\": \"You still need to define the following variables: `final_model`\", \"interactionType\": 1, \"questionType\": 2, \"questionId\": \"2_FitModelWithAllData\", \"learnToolsVersion\": \"0.3.4\", \"valueTowardsCompletion\": 0.0, \"exceptionClass\": \"\", \"trace\": \"\"}}, \"*\")"
      ],
      "text/plain": [
       "<IPython.core.display.Javascript object>"
      ]
     },
     "metadata": {},
     "output_type": "display_data"
    },
    {
     "data": {
      "text/markdown": [
       "<span style=\"color:#cc3333\">Incorrect:</span> You still need to define the following variables: `final_model`"
      ],
      "text/plain": [
       "Incorrect: You still need to define the following variables: `final_model`"
      ]
     },
     "metadata": {},
     "output_type": "display_data"
    }
   ],
   "source": [
    "# Fill in argument to make optimal size and uncomment\n",
    "# final_model = DecisionTreeRegressor(____)\n",
    "\n",
    "# fit the final model and uncomment the next two lines\n",
    "# final_model.fit(____, ____)\n",
    "\n",
    "# Check your answer\n",
    "step_2.check()"
   ]
  },
  {
   "cell_type": "code",
   "execution_count": 6,
   "id": "0a12d89f",
   "metadata": {
    "execution": {
     "iopub.execute_input": "2022-07-02T02:50:44.071486Z",
     "iopub.status.busy": "2022-07-02T02:50:44.070802Z",
     "iopub.status.idle": "2022-07-02T02:50:44.074632Z",
     "shell.execute_reply": "2022-07-02T02:50:44.073823Z"
    },
    "papermill": {
     "duration": 0.011222,
     "end_time": "2022-07-02T02:50:44.076600",
     "exception": false,
     "start_time": "2022-07-02T02:50:44.065378",
     "status": "completed"
    },
    "tags": []
   },
   "outputs": [],
   "source": [
    "# step_2.hint()\n",
    "# step_2.solution()"
   ]
  },
  {
   "cell_type": "markdown",
   "id": "083c65a4",
   "metadata": {
    "papermill": {
     "duration": 0.004156,
     "end_time": "2022-07-02T02:50:44.085243",
     "exception": false,
     "start_time": "2022-07-02T02:50:44.081087",
     "status": "completed"
    },
    "tags": []
   },
   "source": [
    "You've tuned this model and improved your results. But we are still using Decision Tree models, which are not very sophisticated by modern machine learning standards. In the next step you will learn to use Random Forests to improve your models even more.\n",
    "\n",
    "# Keep Going\n",
    "\n",
    "You are ready for **[Random Forests](https://www.kaggle.com/dansbecker/random-forests).**\n"
   ]
  },
  {
   "cell_type": "markdown",
   "id": "f660ac33",
   "metadata": {
    "papermill": {
     "duration": 0.004035,
     "end_time": "2022-07-02T02:50:44.093590",
     "exception": false,
     "start_time": "2022-07-02T02:50:44.089555",
     "status": "completed"
    },
    "tags": []
   },
   "source": [
    "---\n",
    "\n",
    "\n",
    "\n",
    "\n",
    "*Have questions or comments? Visit the [course discussion forum](https://www.kaggle.com/learn/intro-to-machine-learning/discussion) to chat with other learners.*"
   ]
  }
 ],
 "metadata": {
  "kernelspec": {
   "display_name": "Python 3",
   "language": "python",
   "name": "python3"
  },
  "language_info": {
   "codemirror_mode": {
    "name": "ipython",
    "version": 3
   },
   "file_extension": ".py",
   "mimetype": "text/x-python",
   "name": "python",
   "nbconvert_exporter": "python",
   "pygments_lexer": "ipython3",
   "version": "3.7.12"
  },
  "papermill": {
   "default_parameters": {},
   "duration": 12.264738,
   "end_time": "2022-07-02T02:50:44.818710",
   "environment_variables": {},
   "exception": null,
   "input_path": "__notebook__.ipynb",
   "output_path": "__notebook__.ipynb",
   "parameters": {},
   "start_time": "2022-07-02T02:50:32.553972",
   "version": "2.3.4"
  }
 },
 "nbformat": 4,
 "nbformat_minor": 5
}
