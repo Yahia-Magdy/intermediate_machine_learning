{
 "cells": [
  {
   "cell_type": "markdown",
   "id": "b2ac559b",
   "metadata": {
    "papermill": {
     "duration": 0.007484,
     "end_time": "2022-07-02T02:50:08.932514",
     "exception": false,
     "start_time": "2022-07-02T02:50:08.925030",
     "status": "completed"
    },
    "tags": []
   },
   "source": [
    "**This notebook is an exercise in the [Introduction to Machine Learning](https://www.kaggle.com/learn/intro-to-machine-learning) course.  You can reference the tutorial at [this link](https://www.kaggle.com/dansbecker/your-first-machine-learning-model).**\n",
    "\n",
    "---\n"
   ]
  },
  {
   "cell_type": "markdown",
   "id": "2922a459",
   "metadata": {
    "papermill": {
     "duration": 0.007246,
     "end_time": "2022-07-02T02:50:08.946637",
     "exception": false,
     "start_time": "2022-07-02T02:50:08.939391",
     "status": "completed"
    },
    "tags": []
   },
   "source": [
    "## Recap\n",
    "So far, you have loaded your data and reviewed it with the following code. Run this cell to set up your coding environment where the previous step left off."
   ]
  },
  {
   "cell_type": "code",
   "execution_count": 1,
   "id": "7400a0e5",
   "metadata": {
    "execution": {
     "iopub.execute_input": "2022-07-02T02:50:08.962532Z",
     "iopub.status.busy": "2022-07-02T02:50:08.961640Z",
     "iopub.status.idle": "2022-07-02T02:50:10.595370Z",
     "shell.execute_reply": "2022-07-02T02:50:10.593604Z"
    },
    "papermill": {
     "duration": 1.646587,
     "end_time": "2022-07-02T02:50:10.599730",
     "exception": false,
     "start_time": "2022-07-02T02:50:08.953143",
     "status": "completed"
    },
    "tags": []
   },
   "outputs": [
    {
     "name": "stdout",
     "output_type": "stream",
     "text": [
      "Setup Complete\n"
     ]
    }
   ],
   "source": [
    "# Code you have previously used to load data\n",
    "import pandas as pd\n",
    "\n",
    "# Path of the file to read\n",
    "iowa_file_path = '../input/home-data-for-ml-course/train.csv'\n",
    "\n",
    "home_data = pd.read_csv(iowa_file_path)\n",
    "\n",
    "# Set up code checking\n",
    "from learntools.core import binder\n",
    "binder.bind(globals())\n",
    "from learntools.machine_learning.ex3 import *\n",
    "\n",
    "print(\"Setup Complete\")"
   ]
  },
  {
   "cell_type": "markdown",
   "id": "951bdcad",
   "metadata": {
    "papermill": {
     "duration": 0.006223,
     "end_time": "2022-07-02T02:50:10.612730",
     "exception": false,
     "start_time": "2022-07-02T02:50:10.606507",
     "status": "completed"
    },
    "tags": []
   },
   "source": [
    "# Exercises\n",
    "\n",
    "## Step 1: Specify Prediction Target\n",
    "Select the target variable, which corresponds to the sales price. Save this to a new variable called `y`. You'll need to print a list of the columns to find the name of the column you need.\n"
   ]
  },
  {
   "cell_type": "code",
   "execution_count": 2,
   "id": "07f6d863",
   "metadata": {
    "execution": {
     "iopub.execute_input": "2022-07-02T02:50:10.627847Z",
     "iopub.status.busy": "2022-07-02T02:50:10.627374Z",
     "iopub.status.idle": "2022-07-02T02:50:10.637931Z",
     "shell.execute_reply": "2022-07-02T02:50:10.636489Z"
    },
    "papermill": {
     "duration": 0.021467,
     "end_time": "2022-07-02T02:50:10.640596",
     "exception": false,
     "start_time": "2022-07-02T02:50:10.619129",
     "status": "completed"
    },
    "tags": []
   },
   "outputs": [
    {
     "data": {
      "text/plain": [
       "Index(['Id', 'MSSubClass', 'MSZoning', 'LotFrontage', 'LotArea', 'Street',\n",
       "       'Alley', 'LotShape', 'LandContour', 'Utilities', 'LotConfig',\n",
       "       'LandSlope', 'Neighborhood', 'Condition1', 'Condition2', 'BldgType',\n",
       "       'HouseStyle', 'OverallQual', 'OverallCond', 'YearBuilt', 'YearRemodAdd',\n",
       "       'RoofStyle', 'RoofMatl', 'Exterior1st', 'Exterior2nd', 'MasVnrType',\n",
       "       'MasVnrArea', 'ExterQual', 'ExterCond', 'Foundation', 'BsmtQual',\n",
       "       'BsmtCond', 'BsmtExposure', 'BsmtFinType1', 'BsmtFinSF1',\n",
       "       'BsmtFinType2', 'BsmtFinSF2', 'BsmtUnfSF', 'TotalBsmtSF', 'Heating',\n",
       "       'HeatingQC', 'CentralAir', 'Electrical', '1stFlrSF', '2ndFlrSF',\n",
       "       'LowQualFinSF', 'GrLivArea', 'BsmtFullBath', 'BsmtHalfBath', 'FullBath',\n",
       "       'HalfBath', 'BedroomAbvGr', 'KitchenAbvGr', 'KitchenQual',\n",
       "       'TotRmsAbvGrd', 'Functional', 'Fireplaces', 'FireplaceQu', 'GarageType',\n",
       "       'GarageYrBlt', 'GarageFinish', 'GarageCars', 'GarageArea', 'GarageQual',\n",
       "       'GarageCond', 'PavedDrive', 'WoodDeckSF', 'OpenPorchSF',\n",
       "       'EnclosedPorch', '3SsnPorch', 'ScreenPorch', 'PoolArea', 'PoolQC',\n",
       "       'Fence', 'MiscFeature', 'MiscVal', 'MoSold', 'YrSold', 'SaleType',\n",
       "       'SaleCondition', 'SalePrice'],\n",
       "      dtype='object')"
      ]
     },
     "execution_count": 2,
     "metadata": {},
     "output_type": "execute_result"
    }
   ],
   "source": [
    "# print the list of columns in the dataset to find the name of the prediction target\n",
    "home_data.columns"
   ]
  },
  {
   "cell_type": "code",
   "execution_count": 3,
   "id": "778191ac",
   "metadata": {
    "execution": {
     "iopub.execute_input": "2022-07-02T02:50:10.655915Z",
     "iopub.status.busy": "2022-07-02T02:50:10.655413Z",
     "iopub.status.idle": "2022-07-02T02:50:10.670740Z",
     "shell.execute_reply": "2022-07-02T02:50:10.669506Z"
    },
    "papermill": {
     "duration": 0.026057,
     "end_time": "2022-07-02T02:50:10.673130",
     "exception": false,
     "start_time": "2022-07-02T02:50:10.647073",
     "status": "completed"
    },
    "tags": []
   },
   "outputs": [
    {
     "data": {
      "application/javascript": [
       "parent.postMessage({\"jupyterEvent\": \"custom.exercise_interaction\", \"data\": {\"outcomeType\": 1, \"valueTowardsCompletion\": 0.25, \"interactionType\": 1, \"questionType\": 2, \"questionId\": \"1_SetTarget\", \"learnToolsVersion\": \"0.3.4\", \"failureMessage\": \"\", \"exceptionClass\": \"\", \"trace\": \"\"}}, \"*\")"
      ],
      "text/plain": [
       "<IPython.core.display.Javascript object>"
      ]
     },
     "metadata": {},
     "output_type": "display_data"
    },
    {
     "data": {
      "text/markdown": [
       "<span style=\"color:#33cc33\">Correct</span>"
      ],
      "text/plain": [
       "Correct"
      ]
     },
     "metadata": {},
     "output_type": "display_data"
    }
   ],
   "source": [
    "\n",
    "y=home_data.SalePrice\n",
    "# Check your answer\n",
    "step_1.check()"
   ]
  },
  {
   "cell_type": "code",
   "execution_count": 4,
   "id": "19e7a867",
   "metadata": {
    "execution": {
     "iopub.execute_input": "2022-07-02T02:50:10.689075Z",
     "iopub.status.busy": "2022-07-02T02:50:10.688116Z",
     "iopub.status.idle": "2022-07-02T02:50:10.694066Z",
     "shell.execute_reply": "2022-07-02T02:50:10.692752Z"
    },
    "papermill": {
     "duration": 0.017087,
     "end_time": "2022-07-02T02:50:10.696955",
     "exception": false,
     "start_time": "2022-07-02T02:50:10.679868",
     "status": "completed"
    },
    "tags": []
   },
   "outputs": [],
   "source": [
    "# The lines below will show you a hint or the solution.\n",
    "# step_1.hint() \n",
    "#step_1.solution()"
   ]
  },
  {
   "cell_type": "markdown",
   "id": "df5d6637",
   "metadata": {
    "papermill": {
     "duration": 0.006365,
     "end_time": "2022-07-02T02:50:10.710120",
     "exception": false,
     "start_time": "2022-07-02T02:50:10.703755",
     "status": "completed"
    },
    "tags": []
   },
   "source": [
    "## Step 2: Create X\n",
    "Now you will create a DataFrame called `X` holding the predictive features.\n",
    "\n",
    "Since you want only some columns from the original data, you'll first create a list with the names of the columns you want in `X`.\n",
    "\n",
    "You'll use just the following columns in the list (you can copy and paste the whole list to save some typing, though you'll still need to add quotes):\n",
    "  * LotArea\n",
    "  * YearBuilt\n",
    "  * 1stFlrSF\n",
    "  * 2ndFlrSF\n",
    "  * FullBath\n",
    "  * BedroomAbvGr\n",
    "  * TotRmsAbvGrd\n",
    "\n",
    "After you've created that list of features, use it to create the DataFrame that you'll use to fit the model."
   ]
  },
  {
   "cell_type": "code",
   "execution_count": 5,
   "id": "37f06a3c",
   "metadata": {
    "execution": {
     "iopub.execute_input": "2022-07-02T02:50:10.725355Z",
     "iopub.status.busy": "2022-07-02T02:50:10.724791Z",
     "iopub.status.idle": "2022-07-02T02:50:10.742502Z",
     "shell.execute_reply": "2022-07-02T02:50:10.741245Z"
    },
    "papermill": {
     "duration": 0.028388,
     "end_time": "2022-07-02T02:50:10.745225",
     "exception": false,
     "start_time": "2022-07-02T02:50:10.716837",
     "status": "completed"
    },
    "tags": []
   },
   "outputs": [
    {
     "data": {
      "application/javascript": [
       "parent.postMessage({\"jupyterEvent\": \"custom.exercise_interaction\", \"data\": {\"outcomeType\": 1, \"valueTowardsCompletion\": 0.25, \"interactionType\": 1, \"questionType\": 2, \"questionId\": \"2_SelectPredictionData\", \"learnToolsVersion\": \"0.3.4\", \"failureMessage\": \"\", \"exceptionClass\": \"\", \"trace\": \"\"}}, \"*\")"
      ],
      "text/plain": [
       "<IPython.core.display.Javascript object>"
      ]
     },
     "metadata": {},
     "output_type": "display_data"
    },
    {
     "data": {
      "text/markdown": [
       "<span style=\"color:#33cc33\">Correct</span>"
      ],
      "text/plain": [
       "Correct"
      ]
     },
     "metadata": {},
     "output_type": "display_data"
    }
   ],
   "source": [
    "# Create the list of features below\n",
    "feature_names = ['LotArea',\n",
    "'YearBuilt',\n",
    "'1stFlrSF',\n",
    "'2ndFlrSF',\n",
    "'FullBath',\n",
    "'BedroomAbvGr',\n",
    "'TotRmsAbvGrd']\n",
    "\n",
    "# Select data corresponding to features in feature_names\n",
    "X = home_data[feature_names]\n",
    "\n",
    "# Check your answer\n",
    "step_2.check()"
   ]
  },
  {
   "cell_type": "code",
   "execution_count": 6,
   "id": "7a69e366",
   "metadata": {
    "execution": {
     "iopub.execute_input": "2022-07-02T02:50:10.762499Z",
     "iopub.status.busy": "2022-07-02T02:50:10.760969Z",
     "iopub.status.idle": "2022-07-02T02:50:10.766441Z",
     "shell.execute_reply": "2022-07-02T02:50:10.765485Z"
    },
    "papermill": {
     "duration": 0.016578,
     "end_time": "2022-07-02T02:50:10.768909",
     "exception": false,
     "start_time": "2022-07-02T02:50:10.752331",
     "status": "completed"
    },
    "tags": []
   },
   "outputs": [],
   "source": [
    "# step_2.hint()\n",
    "#step_2.solution()"
   ]
  },
  {
   "cell_type": "markdown",
   "id": "78bab7fa",
   "metadata": {
    "papermill": {
     "duration": 0.006457,
     "end_time": "2022-07-02T02:50:10.782454",
     "exception": false,
     "start_time": "2022-07-02T02:50:10.775997",
     "status": "completed"
    },
    "tags": []
   },
   "source": [
    "## Review Data\n",
    "Before building a model, take a quick look at **X** to verify it looks sensible"
   ]
  },
  {
   "cell_type": "code",
   "execution_count": 7,
   "id": "4c1d3e52",
   "metadata": {
    "execution": {
     "iopub.execute_input": "2022-07-02T02:50:10.799235Z",
     "iopub.status.busy": "2022-07-02T02:50:10.798772Z",
     "iopub.status.idle": "2022-07-02T02:50:10.803870Z",
     "shell.execute_reply": "2022-07-02T02:50:10.802672Z"
    },
    "papermill": {
     "duration": 0.01663,
     "end_time": "2022-07-02T02:50:10.806519",
     "exception": false,
     "start_time": "2022-07-02T02:50:10.789889",
     "status": "completed"
    },
    "tags": []
   },
   "outputs": [],
   "source": [
    "# Review data\n",
    "# print description or statistics from X\n",
    "#print(_)\n",
    "\n",
    "# print the top few lines\n",
    "#print(_)"
   ]
  },
  {
   "cell_type": "markdown",
   "id": "7f17355e",
   "metadata": {
    "papermill": {
     "duration": 0.006544,
     "end_time": "2022-07-02T02:50:10.820070",
     "exception": false,
     "start_time": "2022-07-02T02:50:10.813526",
     "status": "completed"
    },
    "tags": []
   },
   "source": [
    "## Step 3: Specify and Fit Model\n",
    "Create a `DecisionTreeRegressor` and save it iowa_model. Ensure you've done the relevant import from sklearn to run this command.\n",
    "\n",
    "Then fit the model you just created using the data in `X` and `y` that you saved above."
   ]
  },
  {
   "cell_type": "code",
   "execution_count": 8,
   "id": "5ae64838",
   "metadata": {
    "execution": {
     "iopub.execute_input": "2022-07-02T02:50:10.837237Z",
     "iopub.status.busy": "2022-07-02T02:50:10.835955Z",
     "iopub.status.idle": "2022-07-02T02:50:10.858040Z",
     "shell.execute_reply": "2022-07-02T02:50:10.857064Z"
    },
    "papermill": {
     "duration": 0.03362,
     "end_time": "2022-07-02T02:50:10.860847",
     "exception": false,
     "start_time": "2022-07-02T02:50:10.827227",
     "status": "completed"
    },
    "tags": []
   },
   "outputs": [
    {
     "data": {
      "application/javascript": [
       "parent.postMessage({\"jupyterEvent\": \"custom.exercise_interaction\", \"data\": {\"outcomeType\": 1, \"valueTowardsCompletion\": 0.25, \"interactionType\": 1, \"questionType\": 2, \"questionId\": \"3_CreateModel\", \"learnToolsVersion\": \"0.3.4\", \"failureMessage\": \"\", \"exceptionClass\": \"\", \"trace\": \"\"}}, \"*\")"
      ],
      "text/plain": [
       "<IPython.core.display.Javascript object>"
      ]
     },
     "metadata": {},
     "output_type": "display_data"
    },
    {
     "data": {
      "text/markdown": [
       "<span style=\"color:#33cc33\">Correct</span>"
      ],
      "text/plain": [
       "Correct"
      ]
     },
     "metadata": {},
     "output_type": "display_data"
    }
   ],
   "source": [
    "# from _ import _\n",
    "#specify the model. \n",
    "#For model reproducibility, set a numeric value for random_state when specifying the model\n",
    "from sklearn.tree import DecisionTreeRegressor\n",
    "iowa_model = DecisionTreeRegressor(random_state=1)\n",
    "\n",
    "\n",
    "# Fit the model\n",
    "____\n",
    "iowa_model.fit(X, y)\n",
    "\n",
    "# Check your answer\n",
    "step_3.check()"
   ]
  },
  {
   "cell_type": "code",
   "execution_count": 9,
   "id": "8914d16c",
   "metadata": {
    "execution": {
     "iopub.execute_input": "2022-07-02T02:50:10.877327Z",
     "iopub.status.busy": "2022-07-02T02:50:10.876871Z",
     "iopub.status.idle": "2022-07-02T02:50:10.881065Z",
     "shell.execute_reply": "2022-07-02T02:50:10.880043Z"
    },
    "papermill": {
     "duration": 0.015132,
     "end_time": "2022-07-02T02:50:10.883189",
     "exception": false,
     "start_time": "2022-07-02T02:50:10.868057",
     "status": "completed"
    },
    "tags": []
   },
   "outputs": [],
   "source": [
    "# step_3.hint()\n",
    "# step_3.solution()"
   ]
  },
  {
   "cell_type": "markdown",
   "id": "d1b46997",
   "metadata": {
    "papermill": {
     "duration": 0.006931,
     "end_time": "2022-07-02T02:50:10.897515",
     "exception": false,
     "start_time": "2022-07-02T02:50:10.890584",
     "status": "completed"
    },
    "tags": []
   },
   "source": [
    "## Step 4: Make Predictions\n",
    "Make predictions with the model's `predict` command using `X` as the data. Save the results to a variable called `predictions`."
   ]
  },
  {
   "cell_type": "code",
   "execution_count": 10,
   "id": "a00c1f9a",
   "metadata": {
    "execution": {
     "iopub.execute_input": "2022-07-02T02:50:10.915018Z",
     "iopub.status.busy": "2022-07-02T02:50:10.914136Z",
     "iopub.status.idle": "2022-07-02T02:50:10.931493Z",
     "shell.execute_reply": "2022-07-02T02:50:10.929964Z"
    },
    "papermill": {
     "duration": 0.028747,
     "end_time": "2022-07-02T02:50:10.934097",
     "exception": false,
     "start_time": "2022-07-02T02:50:10.905350",
     "status": "completed"
    },
    "tags": []
   },
   "outputs": [
    {
     "name": "stdout",
     "output_type": "stream",
     "text": [
      "[208500. 181500. 223500. ... 266500. 142125. 147500.]\n"
     ]
    },
    {
     "data": {
      "application/javascript": [
       "parent.postMessage({\"jupyterEvent\": \"custom.exercise_interaction\", \"data\": {\"outcomeType\": 1, \"valueTowardsCompletion\": 0.25, \"interactionType\": 1, \"questionType\": 2, \"questionId\": \"4_MakePredictions\", \"learnToolsVersion\": \"0.3.4\", \"failureMessage\": \"\", \"exceptionClass\": \"\", \"trace\": \"\"}}, \"*\")"
      ],
      "text/plain": [
       "<IPython.core.display.Javascript object>"
      ]
     },
     "metadata": {},
     "output_type": "display_data"
    },
    {
     "data": {
      "text/markdown": [
       "<span style=\"color:#33cc33\">Correct</span>"
      ],
      "text/plain": [
       "Correct"
      ]
     },
     "metadata": {},
     "output_type": "display_data"
    }
   ],
   "source": [
    "\n",
    "\n",
    "predictions = iowa_model.predict(X)\n",
    "print(predictions)\n",
    "\n",
    "# Check your answer\n",
    "step_4.check()"
   ]
  },
  {
   "cell_type": "code",
   "execution_count": 11,
   "id": "acd9d09b",
   "metadata": {
    "execution": {
     "iopub.execute_input": "2022-07-02T02:50:10.951969Z",
     "iopub.status.busy": "2022-07-02T02:50:10.951540Z",
     "iopub.status.idle": "2022-07-02T02:50:10.956863Z",
     "shell.execute_reply": "2022-07-02T02:50:10.955583Z"
    },
    "papermill": {
     "duration": 0.016962,
     "end_time": "2022-07-02T02:50:10.959278",
     "exception": false,
     "start_time": "2022-07-02T02:50:10.942316",
     "status": "completed"
    },
    "tags": []
   },
   "outputs": [],
   "source": [
    "# step_4.hint()\n",
    "#step_4.solution()"
   ]
  },
  {
   "cell_type": "markdown",
   "id": "1a60148c",
   "metadata": {
    "papermill": {
     "duration": 0.007396,
     "end_time": "2022-07-02T02:50:10.974898",
     "exception": false,
     "start_time": "2022-07-02T02:50:10.967502",
     "status": "completed"
    },
    "tags": []
   },
   "source": [
    "## Think About Your Results\n",
    "\n",
    "Use the `head` method to compare the top few predictions to the actual home values (in `y`) for those same homes. Anything surprising?\n"
   ]
  },
  {
   "cell_type": "code",
   "execution_count": 12,
   "id": "750d6be4",
   "metadata": {
    "execution": {
     "iopub.execute_input": "2022-07-02T02:50:10.992565Z",
     "iopub.status.busy": "2022-07-02T02:50:10.991591Z",
     "iopub.status.idle": "2022-07-02T02:50:10.998032Z",
     "shell.execute_reply": "2022-07-02T02:50:10.996593Z"
    },
    "papermill": {
     "duration": 0.018368,
     "end_time": "2022-07-02T02:50:11.000781",
     "exception": false,
     "start_time": "2022-07-02T02:50:10.982413",
     "status": "completed"
    },
    "tags": []
   },
   "outputs": [],
   "source": [
    "# You can write code in this cell\n"
   ]
  },
  {
   "cell_type": "markdown",
   "id": "7e96dbf5",
   "metadata": {
    "papermill": {
     "duration": 0.00729,
     "end_time": "2022-07-02T02:50:11.015865",
     "exception": false,
     "start_time": "2022-07-02T02:50:11.008575",
     "status": "completed"
    },
    "tags": []
   },
   "source": [
    "It's natural to ask how accurate the model's predictions will be and how you can improve that. That will be you're next step.\n",
    "\n",
    "# Keep Going\n",
    "\n",
    "You are ready for **[Model Validation](https://www.kaggle.com/dansbecker/model-validation).**\n"
   ]
  },
  {
   "cell_type": "markdown",
   "id": "f16518d6",
   "metadata": {
    "papermill": {
     "duration": 0.007203,
     "end_time": "2022-07-02T02:50:11.030755",
     "exception": false,
     "start_time": "2022-07-02T02:50:11.023552",
     "status": "completed"
    },
    "tags": []
   },
   "source": [
    "---\n",
    "\n",
    "\n",
    "\n",
    "\n",
    "*Have questions or comments? Visit the [course discussion forum](https://www.kaggle.com/learn/intro-to-machine-learning/discussion) to chat with other learners.*"
   ]
  }
 ],
 "metadata": {
  "kernelspec": {
   "display_name": "Python 3",
   "language": "python",
   "name": "python3"
  },
  "language_info": {
   "codemirror_mode": {
    "name": "ipython",
    "version": 3
   },
   "file_extension": ".py",
   "mimetype": "text/x-python",
   "name": "python",
   "nbconvert_exporter": "python",
   "pygments_lexer": "ipython3",
   "version": "3.7.12"
  },
  "papermill": {
   "default_parameters": {},
   "duration": 14.651977,
   "end_time": "2022-07-02T02:50:12.062709",
   "environment_variables": {},
   "exception": null,
   "input_path": "__notebook__.ipynb",
   "output_path": "__notebook__.ipynb",
   "parameters": {},
   "start_time": "2022-07-02T02:49:57.410732",
   "version": "2.3.4"
  }
 },
 "nbformat": 4,
 "nbformat_minor": 5
}
